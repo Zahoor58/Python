{
 "cells": [
  {
   "cell_type": "markdown",
   "metadata": {},
   "source": [
    "### some methods"
   ]
  },
  {
   "cell_type": "code",
   "execution_count": 3,
   "metadata": {},
   "outputs": [
    {
     "name": "stdout",
     "output_type": "stream",
     "text": [
      "2\n"
     ]
    }
   ],
   "source": [
    "# count method\n",
    "fruits=[\"banana\",\"pear\",\"kiwi\",\"apple\",\"kiwi\",\"apple\"]\n",
    "print(fruits.count(\"apple\"))"
   ]
  },
  {
   "cell_type": "code",
   "execution_count": 5,
   "metadata": {},
   "outputs": [
    {
     "name": "stdout",
     "output_type": "stream",
     "text": [
      "['apple', 'apple', 'banana', 'kiwi', 'kiwi', 'pear']\n"
     ]
    }
   ],
   "source": [
    "#sort method\n",
    "fruits.sort()\n",
    "print(fruits)"
   ]
  },
  {
   "cell_type": "code",
   "execution_count": 10,
   "metadata": {},
   "outputs": [
    {
     "name": "stdout",
     "output_type": "stream",
     "text": [
      "[1, 1, 2, 2, 2, 3, 4, 4, 5, 5, 6, 7, 42, 6465]\n",
      "[1, 2, 3, 4, 5, 6, 7, 42, 1, 4, 5, 6465, 2, 2]\n",
      "[2, 2, 6465, 5, 4, 1, 42, 7, 6, 5, 4, 3, 2, 1]\n",
      "[2, 2, 6465, 5, 4, 1, 42, 7, 6, 5, 4, 3, 2, 1]\n"
     ]
    }
   ],
   "source": [
    "# sorted method this method can't change original veriable\n",
    "number=[1,2,3,4,5,6,7,42,1,4,5,6465,2,2]\n",
    "print(sorted(number))\n",
    "print(number)\n",
    "# reverse\n",
    "number.reverse()\n",
    "print(number)\n",
    "# number.clear()\n",
    "# print(number)\n",
    "number_copy=number.copy()\n",
    "print(number_copy)"
   ]
  },
  {
   "cell_type": "markdown",
   "metadata": {},
   "source": [
    "\n",
    "\n",
    "\n"
   ]
  }
 ],
 "metadata": {
  "kernelspec": {
   "display_name": "Python 3",
   "language": "python",
   "name": "python3"
  },
  "language_info": {
   "codemirror_mode": {
    "name": "ipython",
    "version": 3
   },
   "file_extension": ".py",
   "mimetype": "text/x-python",
   "name": "python",
   "nbconvert_exporter": "python",
   "pygments_lexer": "ipython3",
   "version": "3.10.12"
  }
 },
 "nbformat": 4,
 "nbformat_minor": 2
}
