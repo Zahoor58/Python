{
 "cells": [
  {
   "cell_type": "markdown",
   "metadata": {},
   "source": [
    "### USER Input \n",
    "we use input function "
   ]
  },
  {
   "cell_type": "code",
   "execution_count": 2,
   "metadata": {},
   "outputs": [],
   "source": [
    "name=input(\"type you name\")"
   ]
  },
  {
   "cell_type": "code",
   "execution_count": 3,
   "metadata": {},
   "outputs": [
    {
     "name": "stdout",
     "output_type": "stream",
     "text": [
      "Hello zahoor\n"
     ]
    }
   ],
   "source": [
    "print(\"Hello\",name)"
   ]
  },
  {
   "cell_type": "markdown",
   "metadata": {},
   "source": [
    "##### Note: \n",
    "            input function always take string  from user side"
   ]
  },
  {
   "cell_type": "code",
   "execution_count": 4,
   "metadata": {},
   "outputs": [],
   "source": [
    "age=input(\"what is you age\")"
   ]
  },
  {
   "cell_type": "code",
   "execution_count": 6,
   "metadata": {},
   "outputs": [
    {
     "name": "stdout",
     "output_type": "stream",
     "text": [
      "your age is 24\n"
     ]
    }
   ],
   "source": [
    "print(\"your age is \"+ age)"
   ]
  },
  {
   "cell_type": "code",
   "execution_count": 9,
   "metadata": {},
   "outputs": [
    {
     "name": "stdout",
     "output_type": "stream",
     "text": [
      "3434\n"
     ]
    }
   ],
   "source": [
    "# int function\n",
    "number_one=input(\"enter first number \")\n",
    "number_two=input(\"enter second number\")\n",
    "total=number_one + number_two\n",
    "print(total)\n"
   ]
  },
  {
   "cell_type": "markdown",
   "metadata": {},
   "source": [
    "I have enter 34 first and second but i get 3434 because input take strint from user side"
   ]
  },
  {
   "cell_type": "code",
   "execution_count": 12,
   "metadata": {},
   "outputs": [
    {
     "name": "stdout",
     "output_type": "stream",
     "text": [
      "68\n"
     ]
    }
   ],
   "source": [
    "# how do we get int from user side\n",
    "number_one=int(input(\"Enter first number\")) \n",
    "number_two=int(input('Enter second  number')) \n",
    "total=number_one + number_two\n",
    "print(total)\n",
    "# str() 4 o/p \"4\", int 4 o/p 4 and  float 4 o/p 4.0\n"
   ]
  },
  {
   "cell_type": "code",
   "execution_count": 16,
   "metadata": {},
   "outputs": [
    {
     "name": "stdout",
     "output_type": "stream",
     "text": [
      "hello zahoor your age is  24\n"
     ]
    }
   ],
   "source": [
    "print(\"hello \" + name + \" your age is \" ,int(age))"
   ]
  },
  {
   "cell_type": "markdown",
   "metadata": {},
   "source": [
    "### Multiple values"
   ]
  },
  {
   "cell_type": "code",
   "execution_count": null,
   "metadata": {},
   "outputs": [],
   "source": []
  },
  {
   "cell_type": "code",
   "execution_count": 19,
   "metadata": {},
   "outputs": [
    {
     "name": "stdout",
     "output_type": "stream",
     "text": [
      "Hello Zahoor  your age is 24\n"
     ]
    }
   ],
   "source": [
    "# first method \n",
    "name=input('Enter your name: ')\n",
    "age = input('Enter you  age: ')\n",
    "print('Hello ' + name + \" your age is \" + age)"
   ]
  },
  {
   "cell_type": "code",
   "execution_count": 25,
   "metadata": {},
   "outputs": [
    {
     "name": "stdout",
     "output_type": "stream",
     "text": [
      "Hello Zahoor your age is 34\n"
     ]
    }
   ],
   "source": [
    "# Second method \n",
    "name, age = input(\"Enter  your name  and age\").split()\n",
    "print('Hello ' + name + \" your age is \" + age)\n",
    "# First enter your name and  space then enter age value\n",
    "# You can also use what you want instead of space splite(','/'-'/'+'... so on)  "
   ]
  },
  {
   "cell_type": "code",
   "execution_count": null,
   "metadata": {},
   "outputs": [],
   "source": []
  }
 ],
 "metadata": {
  "kernelspec": {
   "display_name": "Python 3",
   "language": "python",
   "name": "python3"
  },
  "language_info": {
   "codemirror_mode": {
    "name": "ipython",
    "version": 3
   },
   "file_extension": ".py",
   "mimetype": "text/x-python",
   "name": "python",
   "nbconvert_exporter": "python",
   "pygments_lexer": "ipython3",
   "version": "3.10.12"
  }
 },
 "nbformat": 4,
 "nbformat_minor": 2
}
