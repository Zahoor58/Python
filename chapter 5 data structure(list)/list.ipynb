{
 "cells": [
  {
   "cell_type": "markdown",
   "metadata": {},
   "source": [
    "# List "
   ]
  },
  {
   "cell_type": "markdown",
   "metadata": {},
   "source": [
    "list is ordered collection of items, you cab store any thing in list int string etc\n",
    "\n",
    "## List uses:\n",
    "            Many number assign a veriable  we use  list.\n",
    "\n",
    "## How create a list?\n",
    "                    we can create list to use brackters \n",
    "                    example: Number =  [1, 2, 3, 4]"
   ]
  },
  {
   "cell_type": "code",
   "execution_count": 1,
   "metadata": {},
   "outputs": [
    {
     "name": "stdout",
     "output_type": "stream",
     "text": [
      "[1, 2, 3, 4]\n"
     ]
    }
   ],
   "source": [
    "# create  a number list\n",
    "Number =  [1, 2, 3, 4]\n",
    "print(Number)"
   ]
  },
  {
   "cell_type": "code",
   "execution_count": 2,
   "metadata": {},
   "outputs": [
    {
     "name": "stdout",
     "output_type": "stream",
     "text": [
      "['word1', 'word2', 'word3', 'word4']\n"
     ]
    }
   ],
   "source": [
    "# create a word list\n",
    "Words = [\"word1\", \"word2\", \"word3\", \"word4\"]\n",
    "print(Words)"
   ]
  },
  {
   "cell_type": "code",
   "execution_count": 3,
   "metadata": {},
   "outputs": [
    {
     "name": "stdout",
     "output_type": "stream",
     "text": [
      "[1, 2, 3, 'five', 'six', 2.3, None]\n"
     ]
    }
   ],
   "source": [
    "# create a mix list\n",
    "Mixed = [1, 2, 3, \"five\", \"six\", 2.3, None]\n",
    "print(Mixed)"
   ]
  },
  {
   "cell_type": "code",
   "execution_count": 24,
   "metadata": {},
   "outputs": [
    {
     "name": "stdout",
     "output_type": "stream",
     "text": [
      "[3, 'six']\n"
     ]
    }
   ],
   "source": [
    "# expolored silicing in list\n",
    "print(Mixed[2:-1:2]) # [start:end:steps]"
   ]
  },
  {
   "cell_type": "code",
   "execution_count": 25,
   "metadata": {},
   "outputs": [
    {
     "name": "stdout",
     "output_type": "stream",
     "text": [
      "None\n"
     ]
    }
   ],
   "source": [
    "# print last item of mixed list\n",
    "print(Mixed[-1])"
   ]
  },
  {
   "cell_type": "code",
   "execution_count": 26,
   "metadata": {},
   "outputs": [
    {
     "name": "stdout",
     "output_type": "stream",
     "text": [
      "[1, 'Two', 3, 'five', 'six', 2.3, None]\n"
     ]
    }
   ],
   "source": [
    "# how assign value in  lits \n",
    "Mixed[1]= 'Two'\n",
    "print(Mixed)"
   ]
  },
  {
   "cell_type": "code",
   "execution_count": 31,
   "metadata": {},
   "outputs": [
    {
     "name": "stdout",
     "output_type": "stream",
     "text": [
      "[1, ['two', 'three'], 'three', 'three']\n"
     ]
    }
   ],
   "source": [
    "Mixed[1]=['two', 'three']\n",
    "print(Mixed)"
   ]
  },
  {
   "cell_type": "markdown",
   "metadata": {},
   "source": [
    "### How to add items in a list?"
   ]
  },
  {
   "cell_type": "code",
   "execution_count": 33,
   "metadata": {},
   "outputs": [
    {
     "name": "stdout",
     "output_type": "stream",
     "text": [
      "['Graps', 'Apple']\n"
     ]
    }
   ],
   "source": [
    "Fruits = ['Graps','Apple']\n",
    "print(Fruits)"
   ]
  },
  {
   "cell_type": "code",
   "execution_count": 35,
   "metadata": {},
   "outputs": [
    {
     "name": "stdout",
     "output_type": "stream",
     "text": [
      "['Graps', 'Apple', 'Mango', 'Mango']\n"
     ]
    }
   ],
   "source": [
    "# add a item in list we use append method + Note: Append method is add item in last of list\n",
    "Fruits.append('Mango')\n",
    "print(Fruits)"
   ]
  },
  {
   "cell_type": "markdown",
   "metadata": {},
   "source": [
    "### Some more method to add data in  our list "
   ]
  },
  {
   "cell_type": "code",
   "execution_count": 36,
   "metadata": {},
   "outputs": [],
   "source": [
    "# insert methed  \n",
    "# how concatenate two list \n"
   ]
  },
  {
   "cell_type": "markdown",
   "metadata": {},
   "source": [
    "### Difference b/w append extend method \n"
   ]
  },
  {
   "cell_type": "code",
   "execution_count": 40,
   "metadata": {},
   "outputs": [
    {
     "name": "stdout",
     "output_type": "stream",
     "text": [
      "['Mango', 'Apple', 'Orange']\n"
     ]
    }
   ],
   "source": [
    "Fruits1 = ['Mango', 'Orange']\n",
    "# Append is stored items in  last of list\n",
    "# Insert method is use to stored item in any position\n",
    "# Store Apple in second position \n",
    "Fruits1.insert(1, 'Apple') # note insert a item in position that position not in  list item  will be store in last\n",
    "print(Fruits1)"
   ]
  },
  {
   "cell_type": "code",
   "execution_count": 45,
   "metadata": {},
   "outputs": [
    {
     "name": "stdout",
     "output_type": "stream",
     "text": [
      "['Mango', 'Graps', 'Apple', 'Apple', 'Mango', 'Apple', 'Orange']\n"
     ]
    }
   ],
   "source": [
    "# Join two list each other + we use + operator\n",
    "Fruits = Fruits +  Fruits1\n",
    "print(Fruits)\n"
   ]
  },
  {
   "cell_type": "code",
   "execution_count": 48,
   "metadata": {},
   "outputs": [
    {
     "name": "stdout",
     "output_type": "stream",
     "text": [
      "['Mango', 'Graps', 'Apple']\n"
     ]
    }
   ],
   "source": [
    "# Extend Method:\n",
    "Fruits3 = ['Mango', 'Graps']\n",
    "Fruits4 = ['Apple']\n",
    "Fruits3.extend(Fruits4)\n",
    "print(Fruits3)"
   ]
  },
  {
   "cell_type": "markdown",
   "metadata": {},
   "source": [
    "### Difference B/W append and extend\n",
    "                                   Append: it's make  list inside list\n",
    "                                   Extend: it's make  both list a single list "
   ]
  },
  {
   "cell_type": "code",
   "execution_count": 49,
   "metadata": {},
   "outputs": [
    {
     "name": "stdout",
     "output_type": "stream",
     "text": [
      "['Mango', 'Graps', 'Apple', 'Apple', 'Mango', 'Apple', 'Orange']\n"
     ]
    }
   ],
   "source": [
    "# Comman method to delete data from list\n",
    "print(Fruits)"
   ]
  },
  {
   "cell_type": "code",
   "execution_count": 51,
   "metadata": {},
   "outputs": [
    {
     "name": "stdout",
     "output_type": "stream",
     "text": [
      "['Mango', 'Graps', 'Apple', 'Apple', 'Mango']\n"
     ]
    }
   ],
   "source": [
    "# pop method by defualt delete end item of last position\n",
    "Fruits.pop()\n",
    "print(Fruits)"
   ]
  },
  {
   "cell_type": "code",
   "execution_count": 52,
   "metadata": {},
   "outputs": [
    {
     "name": "stdout",
     "output_type": "stream",
     "text": [
      "['Mango', 'Apple', 'Apple', 'Mango']\n"
     ]
    }
   ],
   "source": [
    "Fruits.pop(1)\n",
    "print(Fruits)"
   ]
  },
  {
   "cell_type": "code",
   "execution_count": 58,
   "metadata": {},
   "outputs": [
    {
     "name": "stdout",
     "output_type": "stream",
     "text": [
      "['Mango', 'Apple', 'Mango']\n"
     ]
    }
   ],
   "source": [
    "# del operator \n",
    "del Fruits[1]\n",
    "print(Fruits)\n"
   ]
  },
  {
   "cell_type": "code",
   "execution_count": 62,
   "metadata": {},
   "outputs": [
    {
     "name": "stdout",
     "output_type": "stream",
     "text": [
      "['Mango', 'Mango']\n"
     ]
    }
   ],
   "source": [
    "# Remove: Use for Particuler element is list\n",
    "Fruits.remove('Apple')\n",
    "print(Fruits)"
   ]
  },
  {
   "cell_type": "markdown",
   "metadata": {},
   "source": [
    "### How we check item is in list or not\n"
   ]
  },
  {
   "cell_type": "code",
   "execution_count": 64,
   "metadata": {},
   "outputs": [],
   "source": [
    "Fruits = [\"Orange\", \"Apple\", \"Pear\", \"Bannana\"]"
   ]
  },
  {
   "cell_type": "code",
   "execution_count": 66,
   "metadata": {},
   "outputs": [
    {
     "name": "stdout",
     "output_type": "stream",
     "text": [
      "Appple is present\n"
     ]
    }
   ],
   "source": [
    "if \"Apple\" in  Fruits:\n",
    "    print(f\"Appple is present\")\n",
    "else:\n",
    "    print(f\"Apple is not present\")"
   ]
  },
  {
   "cell_type": "code",
   "execution_count": 67,
   "metadata": {},
   "outputs": [
    {
     "data": {
      "text/plain": [
       "1"
      ]
     },
     "execution_count": 67,
     "metadata": {},
     "output_type": "execute_result"
    }
   ],
   "source": [
    "# count() method \n",
    "Fruits.count(\"Apple\")\n",
    "# it's used for count"
   ]
  },
  {
   "cell_type": "code",
   "execution_count": 71,
   "metadata": {},
   "outputs": [
    {
     "name": "stdout",
     "output_type": "stream",
     "text": [
      "['Apple', 'Bannana', 'Orange', 'Pear']\n"
     ]
    }
   ],
   "source": [
    "# sort() method: it's used for alphabatically order\n",
    "Fruits.sort()\n",
    "print(Fruits)"
   ]
  },
  {
   "cell_type": "markdown",
   "metadata": {},
   "source": [
    "### Stored function\n",
    "                   When you not sorted our list just print it sorted then you will use stored() function \n"
   ]
  },
  {
   "cell_type": "code",
   "execution_count": 2,
   "metadata": {},
   "outputs": [
    {
     "name": "stdout",
     "output_type": "stream",
     "text": [
      "[1, 10, 3, 20, 5, 9]\n",
      "[1, 3, 5, 9, 10, 20]\n"
     ]
    }
   ],
   "source": [
    "# sorted()\n",
    "number = [1,10,3,20,5,9]\n",
    "print(number)\n",
    "print(sorted(number))\n"
   ]
  },
  {
   "cell_type": "code",
   "execution_count": 3,
   "metadata": {},
   "outputs": [],
   "source": [
    "# clear method: use delete list\n",
    "# number.clear()\n",
    "# print(number)\n"
   ]
  },
  {
   "cell_type": "code",
   "execution_count": 4,
   "metadata": {},
   "outputs": [
    {
     "name": "stdout",
     "output_type": "stream",
     "text": [
      "[1, 10, 3, 20, 5, 9]\n"
     ]
    }
   ],
   "source": [
    "# copy method \n",
    "number_copy = number.copy()\n",
    "print(number_copy)"
   ]
  },
  {
   "cell_type": "code",
   "execution_count": 5,
   "metadata": {},
   "outputs": [],
   "source": [
    "# Campare lits \n",
    "Fruits1 = ['Orange', 'Apple', 'Bannana']\n",
    "Fruits2 = ['Kiwi', 'Apple', 'Bannana']\n",
    "Fruits3 = ['Orange', 'Apple', 'Bannana']"
   ]
  },
  {
   "cell_type": "code",
   "execution_count": 6,
   "metadata": {},
   "outputs": [
    {
     "name": "stdout",
     "output_type": "stream",
     "text": [
      "False\n"
     ]
    }
   ],
   "source": [
    "print(Fruits1==Fruits2)"
   ]
  },
  {
   "cell_type": "code",
   "execution_count": 8,
   "metadata": {},
   "outputs": [
    {
     "name": "stdout",
     "output_type": "stream",
     "text": [
      "True\n"
     ]
    }
   ],
   "source": [
    "print(Fruits1 == Fruits3)"
   ]
  },
  {
   "cell_type": "code",
   "execution_count": 10,
   "metadata": {},
   "outputs": [
    {
     "name": "stdout",
     "output_type": "stream",
     "text": [
      "['harshit', ' 24']\n"
     ]
    }
   ],
   "source": [
    "# ==: It's chack owr item is same  in list\n",
    "# is: Key check memory us same place or not\n",
    "# split method: convert string to list \n",
    "UserInfo = 'harshit, 24'.split(',')\n",
    "print(UserInfo)"
   ]
  },
  {
   "cell_type": "code",
   "execution_count": 13,
   "metadata": {},
   "outputs": [
    {
     "name": "stdout",
     "output_type": "stream",
     "text": [
      "harshit, 24\n"
     ]
    }
   ],
   "source": [
    "# join() method: conver list to string \n",
    "UserInfo1 = ['harshite', '24']\n",
    "print(','.join(UserInfo))\n"
   ]
  },
  {
   "cell_type": "markdown",
   "metadata": {},
   "source": [
    "# Looping in list"
   ]
  },
  {
   "cell_type": "code",
   "execution_count": 1,
   "metadata": {},
   "outputs": [
    {
     "name": "stdout",
     "output_type": "stream",
     "text": [
      "Orange\n",
      "Apple\n",
      "Peer\n",
      "Bannana\n"
     ]
    }
   ],
   "source": [
    "Fruits = ['Orange', 'Apple', 'Peer', 'Bannana']\n",
    "for fruit in Fruits:\n",
    "    print(fruit)"
   ]
  },
  {
   "cell_type": "code",
   "execution_count": 3,
   "metadata": {},
   "outputs": [
    {
     "name": "stdout",
     "output_type": "stream",
     "text": [
      "Orange\n",
      "Apple\n",
      "Peer\n",
      "Bannana\n"
     ]
    }
   ],
   "source": [
    "i=0\n",
    "while i<len(Fruits):\n",
    "    print(Fruits[i])\n",
    "    i+=1"
   ]
  },
  {
   "cell_type": "code",
   "execution_count": 6,
   "metadata": {},
   "outputs": [
    {
     "data": {
      "text/plain": [
       "[[1, 2, 3], [4, 5, 6], [7, 8, 9]]"
      ]
     },
     "execution_count": 6,
     "metadata": {},
     "output_type": "execute_result"
    }
   ],
   "source": [
    "# List inside list\n",
    "Matrix=[[1, 2, 3], [4, 5, 6], [7, 8, 9]] \n",
    "Matrix"
   ]
  },
  {
   "cell_type": "code",
   "execution_count": 7,
   "metadata": {},
   "outputs": [
    {
     "data": {
      "text/plain": [
       "[4, 5, 6]"
      ]
     },
     "execution_count": 7,
     "metadata": {},
     "output_type": "execute_result"
    }
   ],
   "source": [
    "# 2end list\n",
    "Matrix[1]"
   ]
  },
  {
   "cell_type": "code",
   "execution_count": 8,
   "metadata": {},
   "outputs": [
    {
     "name": "stdout",
     "output_type": "stream",
     "text": [
      "[1, 2, 3]\n",
      "[4, 5, 6]\n",
      "[7, 8, 9]\n"
     ]
    }
   ],
   "source": [
    "for i in Matrix:\n",
    "    print(i)"
   ]
  },
  {
   "cell_type": "code",
   "execution_count": 9,
   "metadata": {},
   "outputs": [
    {
     "data": {
      "text/plain": [
       "5"
      ]
     },
     "execution_count": 9,
     "metadata": {},
     "output_type": "execute_result"
    }
   ],
   "source": [
    "Matrix[1][1]"
   ]
  },
  {
   "cell_type": "code",
   "execution_count": 10,
   "metadata": {},
   "outputs": [
    {
     "data": {
      "text/plain": [
       "8"
      ]
     },
     "execution_count": 10,
     "metadata": {},
     "output_type": "execute_result"
    }
   ],
   "source": [
    "# print 8\n",
    "Matrix[2][1]"
   ]
  },
  {
   "cell_type": "code",
   "execution_count": 12,
   "metadata": {},
   "outputs": [
    {
     "data": {
      "text/plain": [
       "str"
      ]
     },
     "execution_count": 12,
     "metadata": {},
     "output_type": "execute_result"
    }
   ],
   "source": [
    "# type() function\n",
    "s = \"string\"\n",
    "type(s)"
   ]
  },
  {
   "cell_type": "code",
   "execution_count": 15,
   "metadata": {},
   "outputs": [
    {
     "data": {
      "text/plain": [
       "[1, 2, 3, 4, 5, 6, 7, 8, 9, 10, 11]"
      ]
     },
     "execution_count": 15,
     "metadata": {},
     "output_type": "execute_result"
    }
   ],
   "source": [
    "# generate list with range function\n",
    "Number=list(range(1,12))\n",
    "Number"
   ]
  },
  {
   "cell_type": "code",
   "execution_count": 17,
   "metadata": {},
   "outputs": [
    {
     "name": "stdout",
     "output_type": "stream",
     "text": [
      "11\n"
     ]
    }
   ],
   "source": [
    "# pop also return a value \n",
    "t= Number.pop()\n",
    "print(t)"
   ]
  },
  {
   "cell_type": "code",
   "execution_count": 19,
   "metadata": {},
   "outputs": [
    {
     "name": "stdout",
     "output_type": "stream",
     "text": [
      "1\n"
     ]
    }
   ],
   "source": [
    "# index method  \n",
    "print(Number.index(2))"
   ]
  },
  {
   "cell_type": "code",
   "execution_count": 26,
   "metadata": {},
   "outputs": [
    {
     "name": "stdout",
     "output_type": "stream",
     "text": [
      "0\n"
     ]
    }
   ],
   "source": [
    "print(Number.index(1))"
   ]
  },
  {
   "cell_type": "code",
   "execution_count": 30,
   "metadata": {},
   "outputs": [],
   "source": [
    "# Pass list in function\n",
    "def Nagative(l):\n",
    "    NagativeNumber=[]\n",
    "    for i in l:\n",
    "        NagativeNumber.append(-i)\n",
    "    return NagativeNumber"
   ]
  },
  {
   "cell_type": "code",
   "execution_count": 31,
   "metadata": {},
   "outputs": [
    {
     "name": "stdout",
     "output_type": "stream",
     "text": [
      "[-1, -2, -3, -4, -5, -6, -7, -8, -9, -10]\n"
     ]
    }
   ],
   "source": [
    "print(Nagative(Number))"
   ]
  },
  {
   "cell_type": "markdown",
   "metadata": {},
   "source": [
    "## Exercise"
   ]
  },
  {
   "cell_type": "code",
   "execution_count": 34,
   "metadata": {},
   "outputs": [
    {
     "name": "stdout",
     "output_type": "stream",
     "text": [
      "[1, 4, 9, 16, 25, 36, 49, 64, 81, 100]\n"
     ]
    }
   ],
   "source": [
    "# define a function which take  list cantaing Number and return list cantain squire of every elements\n",
    " \n",
    "def SquireList(l):\n",
    "    SquireList =[]\n",
    "    for i in l:\n",
    "        SquireList.append(i**2)\n",
    "    return SquireList\n",
    "\n",
    "# call function and pass list as argument\n",
    "print(SquireList(Number))"
   ]
  },
  {
   "cell_type": "code",
   "execution_count": 35,
   "metadata": {},
   "outputs": [
    {
     "name": "stdout",
     "output_type": "stream",
     "text": [
      "[10, 9, 8, 7, 6, 5, 4, 3, 2, 1]\n"
     ]
    }
   ],
   "source": [
    "# Write a function which take a list as argument and  return a reverse \n",
    "def ReverseList(l):\n",
    "    ReverseList=l[::-1]\n",
    "    return ReverseList\n",
    "print(ReverseList(Number))"
   ]
  },
  {
   "cell_type": "code",
   "execution_count": 42,
   "metadata": {},
   "outputs": [],
   "source": [
    "# Define a function which take a list of words and return  list with revere of list words every elements\n",
    "def ReverseWordList(l):\n",
    "    ElementsList=[]\n",
    "    for i in l:\n",
    "        ElementsList.append(i[::-1])\n",
    "    return ElementsList"
   ]
  },
  {
   "cell_type": "code",
   "execution_count": 43,
   "metadata": {},
   "outputs": [
    {
     "name": "stdout",
     "output_type": "stream",
     "text": [
      "['cbA', 'fcD', 'ihG']\n"
     ]
    }
   ],
   "source": [
    "Words=['Abc', \"Dcf\", \"Ghi\"]\n",
    "print(ReverseWordList(Words))"
   ]
  },
  {
   "cell_type": "code",
   "execution_count": 63,
   "metadata": {},
   "outputs": [
    {
     "name": "stdout",
     "output_type": "stream",
     "text": [
      "[[2, 4, 6, 8, 10], [1, 3, 5, 7, 9]]\n"
     ]
    },
    {
     "data": {
      "text/plain": [
       "[1, 2, 3, 4, 5, 6, 7, 8, 9, 10]"
      ]
     },
     "execution_count": 63,
     "metadata": {},
     "output_type": "execute_result"
    }
   ],
   "source": [
    "# define a functioan take a list of number and return  a list and seprate odd and even list\n",
    "\n",
    "def SeprateEvenAndOdd(l):\n",
    "    EvenList = []\n",
    "    OddList = []\n",
    "    EvenAndOddList=[]\n",
    "    for i in l:\n",
    "        if i%2==0:\n",
    "\n",
    "            EvenList.append(i)\n",
    "        else:OddList.append(i)\n",
    "    EvenAndOddList =[ EvenList,OddList]\n",
    "    return EvenAndOddList\n",
    "\n",
    "# call function an pass list argument\n",
    "print(SeprateEvenAndOdd(Number))\n",
    "Number\n"
   ]
  },
  {
   "cell_type": "code",
   "execution_count": 67,
   "metadata": {},
   "outputs": [],
   "source": [
    "# Comman element finder function, define  a function  which take  2  list as input return a list, which cantain common  element in both lits\n",
    "\n",
    "def CommonElementFinderList(l1, l2):\n",
    "    CommonList = []\n",
    "    for i in l1:\n",
    "        if i in l2:\n",
    "                CommonList.append(i)\n",
    "    return     CommonList\n",
    "    "
   ]
  },
  {
   "cell_type": "code",
   "execution_count": 68,
   "metadata": {},
   "outputs": [
    {
     "name": "stdout",
     "output_type": "stream",
     "text": [
      "[1, 4, 6]\n"
     ]
    }
   ],
   "source": [
    "print(CommonElementFinderList([1,4,5,6],[6,4,6,1]))"
   ]
  },
  {
   "cell_type": "code",
   "execution_count": 69,
   "metadata": {},
   "outputs": [
    {
     "data": {
      "text/plain": [
       "98"
      ]
     },
     "execution_count": 69,
     "metadata": {},
     "output_type": "execute_result"
    }
   ],
   "source": [
    "# max and min  function \n",
    "# Define a function which take a list and return max and  min\n",
    "def GreatestDeffernce(l):\n",
    "    return max(l)-min(l)\n",
    "\n",
    "GreatestDeffernce([1,3,6,79,99,2])"
   ]
  },
  {
   "cell_type": "code",
   "execution_count": null,
   "metadata": {},
   "outputs": [],
   "source": []
  }
 ],
 "metadata": {
  "kernelspec": {
   "display_name": "Python 3",
   "language": "python",
   "name": "python3"
  },
  "language_info": {
   "codemirror_mode": {
    "name": "ipython",
    "version": 3
   },
   "file_extension": ".py",
   "mimetype": "text/x-python",
   "name": "python",
   "nbconvert_exporter": "python",
   "pygments_lexer": "ipython3",
   "version": "3.12.2"
  }
 },
 "nbformat": 4,
 "nbformat_minor": 2
}
