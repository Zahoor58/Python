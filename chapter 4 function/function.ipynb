{
 "cells": [
  {
   "cell_type": "markdown",
   "metadata": {},
   "source": [
    "### Function "
   ]
  },
  {
   "cell_type": "markdown",
   "metadata": {},
   "source": [
    "a function is a block of reusable code that performs a specific task."
   ]
  },
  {
   "cell_type": "code",
   "execution_count": null,
   "metadata": {},
   "outputs": [],
   "source": [
    "# one script we read multiple we use  function  "
   ]
  },
  {
   "cell_type": "code",
   "execution_count": 1,
   "metadata": {},
   "outputs": [
    {
     "name": "stdout",
     "output_type": "stream",
     "text": [
      " your name lenght is 6\n"
     ]
    }
   ],
   "source": [
    "name = \"Zahoor\"\n",
    "print(f\" your name lenght is {len(name)}\")"
   ]
  },
  {
   "cell_type": "code",
   "execution_count": 2,
   "metadata": {},
   "outputs": [],
   "source": [
    "# we use  def keyword to define function  python"
   ]
  },
  {
   "cell_type": "code",
   "execution_count": 15,
   "metadata": {},
   "outputs": [
    {
     "name": "stdout",
     "output_type": "stream",
     "text": [
      "Sum of two numbers: 25\n",
      "Your full name: Zahoor Shad\n"
     ]
    }
   ],
   "source": [
    "# write a  function that sum two number \n",
    "def AddTwoNumber(a,b):\n",
    "    return a + b\n",
    "a, b = input(\"Enter two number for sum(sperate them using /)\").split('/')\n",
    "FirstName, LastName = input(\"Enter your first and last name  and sperate them /\").split('/')\n",
    "\n",
    "def FullName(a,b):\n",
    "    return a +\" \"+ b\n",
    "print(f\"Sum of two numbers: {AddTwoNumber(int(a),int(b))}\")\n",
    "print(f\"Your full name: {FullName(FirstName, LastName)}\")"
   ]
  },
  {
   "cell_type": "markdown",
   "metadata": {},
   "source": [
    "Note: python is a dynamic programming language "
   ]
  },
  {
   "cell_type": "markdown",
   "metadata": {},
   "source": [
    "Function take evry thinks string, int, charactor, ets because its dynamic program language"
   ]
  },
  {
   "cell_type": "code",
   "execution_count": 19,
   "metadata": {},
   "outputs": [
    {
     "name": "stdout",
     "output_type": "stream",
     "text": [
      " sum of four number 17\n",
      "Sum of three numbers: 6\n"
     ]
    },
    {
     "data": {
      "text/plain": [
       "6"
      ]
     },
     "execution_count": 19,
     "metadata": {},
     "output_type": "execute_result"
    }
   ],
   "source": [
    "# define function take that return sum off three numbers \n",
    "def AddThree(a, b, c):\n",
    "    return a + b + c\n",
    "\n",
    "def AddFourNumber(a, b, c, d):\n",
    "    print(f\" sum of four number {a + b + c + d}\")\n",
    "\n",
    "AddFourNumber(2,3,5,7)\n",
    "\n",
    "print(f\"Sum of three numbers: {AddThree(1,2,3)}\")\n",
    "AddThree(1,2,3)"
   ]
  },
  {
   "cell_type": "markdown",
   "metadata": {},
   "source": [
    "Write a function return last of string charactot "
   ]
  },
  {
   "cell_type": "code",
   "execution_count": 29,
   "metadata": {},
   "outputs": [
    {
     "name": "stdout",
     "output_type": "stream",
     "text": [
      "r\n"
     ]
    }
   ],
   "source": [
    "def LastStringCharactor(string):\n",
    "    return string[-1]\n",
    "\n",
    "print(LastStringCharactor('Zahoor'))"
   ]
  },
  {
   "cell_type": "code",
   "execution_count": 39,
   "metadata": {},
   "outputs": [
    {
     "name": "stdout",
     "output_type": "stream",
     "text": [
      "12 is even\n",
      "13 is odd\n"
     ]
    }
   ],
   "source": [
    "# write a function for check number  is odd  or even \n",
    "def EvenOddNumber(Num1):\n",
    "    if Num1%2==0:\n",
    "        print(f\"{Num1} is even\")\n",
    "    else:\n",
    "        print(f\"{Num1} is odd\")\n",
    "\n",
    "    \n",
    "EvenOddNumber(12)\n",
    "EvenOddNumber(13)"
   ]
  },
  {
   "cell_type": "markdown",
   "metadata": {},
   "source": [
    "## Difference between parameters and arguments  \n",
    "### parameter: When you def a function then you give it parameter \n",
    "     example def Sum(a,b) a and b are parameters \n",
    "### Arguments: When you call a function then you pass it arguments\n",
    "     example: sum(1,2) 1 and 2 are arguments  \n"
   ]
  },
  {
   "cell_type": "markdown",
   "metadata": {},
   "source": [
    "We can also define without parameters "
   ]
  },
  {
   "cell_type": "code",
   "execution_count": 41,
   "metadata": {},
   "outputs": [
    {
     "data": {
      "text/plain": [
       "'Zahoor'"
      ]
     },
     "execution_count": 41,
     "metadata": {},
     "output_type": "execute_result"
    }
   ],
   "source": [
    "def RetrunString():\n",
    "    return \"Zahoor\"\n",
    "\n",
    "# we also called function without agruments \n",
    "RetrunString()"
   ]
  },
  {
   "cell_type": "code",
   "execution_count": 54,
   "metadata": {},
   "outputs": [
    {
     "name": "stdout",
     "output_type": "stream",
     "text": [
      "2\n",
      "5\n"
     ]
    }
   ],
   "source": [
    "# define a function that take two number and return greater\n",
    "def GreaterNumber(a,b):\n",
    "\n",
    "    if a>b:\n",
    "        return a \n",
    "    return  b\n",
    "\n",
    "print(GreaterNumber(1,2))\n",
    "print(GreaterNumber(5,1))"
   ]
  },
  {
   "cell_type": "code",
   "execution_count": 49,
   "metadata": {},
   "outputs": [
    {
     "name": "stdout",
     "output_type": "stream",
     "text": [
      "Greater  Number is 12\n",
      "Greater number is  22\n",
      "Greater  Number is  33\n"
     ]
    }
   ],
   "source": [
    "# for three number\n",
    "def GreaterNumberThrees(a,b,c):\n",
    "    if a > b and a > c:\n",
    "        return(f\"Greater  Number is {a}\")\n",
    "    elif b > a and b > c:\n",
    "        return(f\"Greater number is  {b}\")\n",
    "    return (f\"Greater  Number is  {c}\")\n",
    "\n",
    "print(GreaterNumberThrees(12,1,4))\n",
    "print(GreaterNumberThrees(1,22,3))\n",
    "print(GreaterNumberThrees(1,4,33))"
   ]
  },
  {
   "cell_type": "code",
   "execution_count": 55,
   "metadata": {},
   "outputs": [
    {
     "name": "stdout",
     "output_type": "stream",
     "text": [
      "55\n"
     ]
    }
   ],
   "source": [
    "# function inside function\n",
    "def NewGreater(a, b, c):\n",
    "    bigger = int(GreaterNumber(a, b))\n",
    "    return GreaterNumber(bigger, c)\n",
    "print(NewGreater(12,34,55))"
   ]
  },
  {
   "cell_type": "code",
   "execution_count": 64,
   "metadata": {},
   "outputs": [
    {
     "name": "stdout",
     "output_type": "stream",
     "text": [
      "True\n",
      "False\n"
     ]
    }
   ],
   "source": [
    "# Write a stript that check word is palindrome or not\n",
    "\n",
    "def IsPalindrome(wrd):\n",
    "    lenth=len(wrd)\n",
    "    for i in range(lenth//2):\n",
    "        if wrd[i] != wrd[lenth-i-1]:\n",
    "            return False\n",
    "    return True\n",
    "print(IsPalindrome(\"acbca\"))\n",
    "print(IsPalindrome(\"acbcc\"))"
   ]
  },
  {
   "cell_type": "code",
   "execution_count": 67,
   "metadata": {},
   "outputs": [
    {
     "name": "stdout",
     "output_type": "stream",
     "text": [
      "0 1,1,2,3,5,8,13,21,34,55,89,144,233,377,None\n"
     ]
    }
   ],
   "source": [
    "# write script fibonacci series\n",
    "def FibonacciSeries(n):\n",
    "    a=0\n",
    "    b=1\n",
    "    if n==1:\n",
    "        print(a)\n",
    "    if n==2:\n",
    "        print(a,b,end=',')\n",
    "    else:\n",
    "        print(a,b, end=',')\n",
    "        for i in range(n-2):\n",
    "            c=a+b\n",
    "            a=b\n",
    "            b=c\n",
    "            print(b,end=',')\n",
    "print(FibonacciSeries(15))\n"
   ]
  },
  {
   "cell_type": "code",
   "execution_count": 68,
   "metadata": {},
   "outputs": [
    {
     "name": "stdout",
     "output_type": "stream",
     "text": [
      "0, 1, 1, 2, 3, 5, 8, 13, 21, 34, 55, 89, 144, 233, 377, "
     ]
    }
   ],
   "source": [
    "#optimze\n",
    "def FibonacciSeries(n):\n",
    "    a, b = 0, 1\n",
    "    print(a, end=\", \")\n",
    "    if n > 1:\n",
    "        print(b, end=\", \")\n",
    "        for _ in range(n - 2):\n",
    "            a, b = b, a + b\n",
    "            print(b, end=\", \")\n",
    "\n",
    "FibonacciSeries(15)"
   ]
  },
  {
   "cell_type": "markdown",
   "metadata": {},
   "source": [
    "### defualt parameters"
   ]
  },
  {
   "cell_type": "code",
   "execution_count": 72,
   "metadata": {},
   "outputs": [
    {
     "name": "stdout",
     "output_type": "stream",
     "text": [
      "My name Zahoor Shad and I am 12 old\n",
      "My name Unkwon Unknow and I am None old\n",
      "My name 12 Unknow and I am None old\n"
     ]
    }
   ],
   "source": [
    "def UserInformation(FirstName = \"Unkwon\", LastName = \"Unknow\", age = None):\n",
    "    print(f\"My name {FirstName} {LastName} and I am {age} old\")\n",
    "\n",
    "\n",
    "UserInformation('Zahoor', 'Shad', 12)\n",
    "UserInformation()\n",
    "UserInformation(12)"
   ]
  },
  {
   "cell_type": "markdown",
   "metadata": {},
   "source": [
    "## Veriable Scope\n",
    " we not use it veriable scop"
   ]
  },
  {
   "cell_type": "code",
   "execution_count": 73,
   "metadata": {},
   "outputs": [],
   "source": [
    "def fun():\n",
    "    x = 5;\n",
    "    return x\n"
   ]
  },
  {
   "cell_type": "code",
   "execution_count": 74,
   "metadata": {},
   "outputs": [
    {
     "data": {
      "text/plain": [
       "5"
      ]
     },
     "execution_count": 74,
     "metadata": {},
     "output_type": "execute_result"
    }
   ],
   "source": [
    "fun()"
   ]
  },
  {
   "cell_type": "code",
   "execution_count": 76,
   "metadata": {},
   "outputs": [
    {
     "ename": "NameError",
     "evalue": "name 'x' is not defined",
     "output_type": "error",
     "traceback": [
      "\u001b[0;31m---------------------------------------------------------------------------\u001b[0m",
      "\u001b[0;31mNameError\u001b[0m                                 Traceback (most recent call last)",
      "\u001b[1;32m/workspace/Python/chapter 4 function/function.ipynb Cell 27\u001b[0m line \u001b[0;36m1\n\u001b[0;32m----> <a href='vscode-notebook-cell://zahoor58-python-1ume0h1kg2f.ws-us110.gitpod.io/workspace/Python/chapter%204%20function/function.ipynb#X64sdnNjb2RlLXJlbW90ZQ%3D%3D?line=0'>1</a>\u001b[0m x \u001b[39m# because is  a local veriable\u001b[39;00m\n",
      "\u001b[0;31mNameError\u001b[0m: name 'x' is not defined"
     ]
    }
   ],
   "source": [
    "x # because is  a local veriable"
   ]
  },
  {
   "cell_type": "markdown",
   "metadata": {},
   "source": [
    "## Note: there there two types of veriables local and global veriable"
   ]
  },
  {
   "cell_type": "markdown",
   "metadata": {},
   "source": [
    "#### local: local veriable is define inside function "
   ]
  },
  {
   "cell_type": "markdown",
   "metadata": {},
   "source": [
    "#### Global: global veriable is  define outside  function"
   ]
  },
  {
   "cell_type": "code",
   "execution_count": 82,
   "metadata": {},
   "outputs": [],
   "source": [
    "# how we can make  a local  veriable as globle  veriable\n",
    "x=5\n",
    "def fun2():\n",
    "    global x\n",
    "    x= 7\n",
    "    return x\n"
   ]
  },
  {
   "cell_type": "code",
   "execution_count": 83,
   "metadata": {},
   "outputs": [
    {
     "data": {
      "text/plain": [
       "7"
      ]
     },
     "execution_count": 83,
     "metadata": {},
     "output_type": "execute_result"
    }
   ],
   "source": [
    "fun2()"
   ]
  },
  {
   "cell_type": "code",
   "execution_count": 84,
   "metadata": {},
   "outputs": [
    {
     "data": {
      "text/plain": [
       "7"
      ]
     },
     "execution_count": 84,
     "metadata": {},
     "output_type": "execute_result"
    }
   ],
   "source": [
    "x\n"
   ]
  },
  {
   "cell_type": "code",
   "execution_count": null,
   "metadata": {},
   "outputs": [],
   "source": []
  }
 ],
 "metadata": {
  "kernelspec": {
   "display_name": "Python 3",
   "language": "python",
   "name": "python3"
  },
  "language_info": {
   "codemirror_mode": {
    "name": "ipython",
    "version": 3
   },
   "file_extension": ".py",
   "mimetype": "text/x-python",
   "name": "python",
   "nbconvert_exporter": "python",
   "pygments_lexer": "ipython3",
   "version": "3.12.2"
  }
 },
 "nbformat": 4,
 "nbformat_minor": 2
}
