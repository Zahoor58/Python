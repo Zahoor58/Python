{
 "cells": [
  {
   "cell_type": "markdown",
   "metadata": {},
   "source": [
    "### List comprehension \n",
    "                   whith  help of  list comprehension we can create alist in one line"
   ]
  },
  {
   "cell_type": "code",
   "execution_count": 5,
   "metadata": {
    "metadata": {}
   },
   "outputs": [
    {
     "name": "stdout",
     "output_type": "stream",
     "text": [
      "[1, 4, 9, 16, 25, 36, 49, 64, 81, 100]\n"
     ]
    }
   ],
   "source": [
    "# create a list of sequares from 1 to 10\n",
    "# in simple way\n",
    "sqr=[]\n",
    "for i in  range(1,11):\n",
    "    sqr.append(i**2)\n",
    "    \n",
    "print(sqr)"
   ]
  },
  {
   "cell_type": "code",
   "execution_count": 8,
   "metadata": {
    "metadata": {}
   },
   "outputs": [
    {
     "name": "stdout",
     "output_type": "stream",
     "text": [
      "[1, 4, 9, 16, 25, 36, 49, 64, 81, 100]\n"
     ]
    }
   ],
   "source": [
    "# using list comprehension \n",
    "sqr=[i**2 for i in range(1,11)]\n",
    "print(sqr)"
   ]
  },
  {
   "cell_type": "code",
   "execution_count": 11,
   "metadata": {
    "metadata": {}
   },
   "outputs": [
    {
     "name": "stdout",
     "output_type": "stream",
     "text": [
      "[-1, -2, -3, -4, -5, -6, -7, -8, -9, -10]\n"
     ]
    }
   ],
   "source": [
    "# create a nagative list using list comprehension\n",
    "negative=[-i for i in range(1,11)]\n",
    "print(negative)"
   ]
  },
  {
   "cell_type": "code",
   "execution_count": 26,
   "metadata": {
    "metadata": {}
   },
   "outputs": [
    {
     "name": "stdout",
     "output_type": "stream",
     "text": [
      "['cba', 'fed', 'ihg']\n"
     ]
    }
   ],
   "source": [
    "# define a function that takes a list of string and reutrn a list  of reverse string \n",
    "def reverse_List(l):\n",
    "    reserseList=[ i[::-1] for i in l]\n",
    "    return reserseList\n",
    "\n",
    "print(reverse_List(['abc','def', 'ghi']))"
   ]
  },
  {
   "cell_type": "code",
   "execution_count": 31,
   "metadata": {
    "metadata": {}
   },
   "outputs": [
    {
     "name": "stdout",
     "output_type": "stream",
     "text": [
      "[2, 4, 6, 8, 10]\n"
     ]
    }
   ],
   "source": [
    "# list comehrension with statement  \n",
    "# define a function take a list of number  and retun even numbers list\n",
    "\n",
    "def ListOfEven(n):\n",
    "    EvenNumbersList=[i for i in n if i%2==0]\n",
    "    return EvenNumbersList\n",
    "\n",
    "\n",
    "print(ListOfEven(i for i  in range(1,11)))"
   ]
  },
  {
   "cell_type": "code",
   "execution_count": 32,
   "metadata": {
    "metadata": {}
   },
   "outputs": [
    {
     "name": "stdout",
     "output_type": "stream",
     "text": [
      "['3.5', '0.3']\n"
     ]
    }
   ],
   "source": [
    "# define a function that take a list and chnage  number to string \n",
    "def numToString(l):\n",
    "\n",
    "    return [str(i) for i in l if type(i)==int or type(i)==float]\n",
    "\n",
    "print(numToString(['False','true',[i for i in range(3)],3.5,0.3]))"
   ]
  },
  {
   "cell_type": "code",
   "execution_count": 44,
   "metadata": {
    "metadata": {}
   },
   "outputs": [
    {
     "name": "stdout",
     "output_type": "stream",
     "text": [
      "[0, -1, 4, -3, 16, -5, 36, -7, 64, -9, 100, -11, 144, -13, 196, -15, 256, -17, 324, -19, 400, -21, 484, -23, 576, -25, 676, -27, 784, -29, 900, -31, 1024, -33, 1156, -35, 1296, -37, 1444, -39, 1600, -41, 1764, -43, 1936, -45, 2116, -47, 2304, -49]\n"
     ]
    }
   ],
   "source": [
    "# list comehension with else statement \n",
    "# Define a function that take a list of number and return a list is its number than send its square else send it in negative \n",
    "\n",
    "def EvenNumbersSquaresAndOddNumersWithnegative(l):\n",
    "    return [i**2 if i%2==0 else -i for i in l]\n",
    "\n",
    "print(EvenNumbersSquaresAndOddNumersWithnegative([i for i in range(50)]))"
   ]
  }
 ],
 "metadata": {
  "kernelspec": {
   "display_name": "Python 3",
   "language": "python",
   "name": "python3"
  },
  "language_info": {
   "codemirror_mode": {
    "name": "ipython",
    "version": 3
   },
   "file_extension": ".py",
   "mimetype": "text/x-python",
   "name": "python",
   "nbconvert_exporter": "python",
   "pygments_lexer": "ipython3",
   "version": "3.12.3"
  }
 },
 "nbformat": 4,
 "nbformat_minor": 2
}
