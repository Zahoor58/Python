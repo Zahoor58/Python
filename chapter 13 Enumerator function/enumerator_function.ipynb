{
 "cells": [
  {
   "cell_type": "markdown",
   "metadata": {},
   "source": [
    "### enumerate function:\n",
    "                     The enumerate function in Python is a built-in function that allows you to loop over a list (or any iterable) and have an automatic counter. It’s particularly useful when you need a counter variable to keep track of the index in the loop. The function adds a counter to an iterable and returns it in the form of an enumerating object.\n",
    "                     "
   ]
  },
  {
   "cell_type": "code",
   "execution_count": 1,
   "metadata": {},
   "outputs": [
    {
     "name": "stdout",
     "output_type": "stream",
     "text": [
      "Index: 0, Item: apple\n",
      "Index: 1, Item: banana\n",
      "Index: 2, Item: cherry\n"
     ]
    }
   ],
   "source": [
    "# Define a list of items\n",
    "items = ['apple', 'banana', 'cherry']\n",
    "\n",
    "# Use enumerate to loop over the list with an automatic counter\n",
    "for index, item in enumerate(items):\n",
    "    print(f\"Index: {index}, Item: {item}\")\n"
   ]
  },
  {
   "cell_type": "markdown",
   "metadata": {},
   "source": [
    "## Syntax\n",
    "     The syntax of the enumerate function is:\n",
    "     "
   ]
  },
  {
   "cell_type": "code",
   "execution_count": 4,
   "metadata": {},
   "outputs": [],
   "source": [
    "# \n",
    "# enumerate(iterable, start=0)\n",
    "# iterable: Any iterable (e.g., list, tuple, string).\n",
    "# start: The starting index of the counter. The default is 0.\n"
   ]
  },
  {
   "cell_type": "markdown",
   "metadata": {},
   "source": [
    "Example with Custom Start Index\n",
    "You can also specify a different start index:"
   ]
  },
  {
   "cell_type": "code",
   "execution_count": 5,
   "metadata": {},
   "outputs": [
    {
     "name": "stdout",
     "output_type": "stream",
     "text": [
      "Index: 1, Item: apple\n",
      "Index: 2, Item: banana\n",
      "Index: 3, Item: cherry\n"
     ]
    }
   ],
   "source": [
    "# Define a list of items\n",
    "items = ['apple', 'banana', 'cherry']\n",
    "\n",
    "# Use enumerate with a custom start index\n",
    "for index, item in enumerate(items, start=1):\n",
    "    print(f\"Index: {index}, Item: {item}\")\n"
   ]
  },
  {
   "cell_type": "markdown",
   "metadata": {},
   "source": [
    "Practical Example\n",
    "Consider a situation where you want to create a dictionary that maps the indices to the items:\n"
   ]
  },
  {
   "cell_type": "code",
   "execution_count": 6,
   "metadata": {},
   "outputs": [
    {
     "name": "stdout",
     "output_type": "stream",
     "text": [
      "{0: 'apple', 1: 'banana', 2: 'cherry'}\n"
     ]
    }
   ],
   "source": [
    "# Define a list of items\n",
    "items = ['apple', 'banana', 'cherry']\n",
    "\n",
    "# Create a dictionary using enumerate\n",
    "item_dict = {index: item for index, item in enumerate(items)}\n",
    "\n",
    "print(item_dict)\n"
   ]
  },
  {
   "cell_type": "markdown",
   "metadata": {},
   "source": [
    "How we can do this without nemerator function?"
   ]
  },
  {
   "cell_type": "code",
   "execution_count": 8,
   "metadata": {},
   "outputs": [
    {
     "name": "stdout",
     "output_type": "stream",
     "text": [
      " index: 0  item: abc\n",
      " index: 1  item: def\n",
      " index: 2  item: ghi\n"
     ]
    }
   ],
   "source": [
    "pos =  0\n",
    "names = ['abc','def','ghi']\n",
    "for name in names:\n",
    "    print(f\" index: {pos}  item: {name}\")\n",
    "    pos +=1"
   ]
  },
  {
   "cell_type": "code",
   "execution_count": 12,
   "metadata": {},
   "outputs": [
    {
     "name": "stdout",
     "output_type": "stream",
     "text": [
      "2\n"
     ]
    }
   ],
   "source": [
    "def find_pos(l,target):\n",
    "    for pos, name in enumerate(l):\n",
    "        if name==target:\n",
    "            return pos\n",
    "\n",
    "print(find_pos(names,'ghi'))"
   ]
  },
  {
   "cell_type": "markdown",
   "metadata": {},
   "source": [
    "### map: \n",
    "        The map function in Python is a built-in function used for applying a function to every item in an iterable (like a list, tuple, or string) and returning a map object (which is an iterator). This is especially useful for transforming data in a concise and readable way.\n",
    "        "
   ]
  },
  {
   "cell_type": "markdown",
   "metadata": {},
   "source": [
    "Syntax\n",
    "The syntax of the map function is:\n",
    "map(function, iterable, ...)\n",
    "   function: A function that takes one or more arguments.\n",
    "iterable: One or more iterables. If multiple iterables are provided, the function should take as many arguments as there are iterables."
   ]
  },
  {
   "cell_type": "markdown",
   "metadata": {},
   "source": [
    "## Basic Example:\n",
    "     Here's a simple example where map is used to square each number in a list:"
   ]
  },
  {
   "cell_type": "code",
   "execution_count": 13,
   "metadata": {},
   "outputs": [
    {
     "name": "stdout",
     "output_type": "stream",
     "text": [
      "[1, 4, 9, 16, 25]\n"
     ]
    }
   ],
   "source": [
    "# Define a function that squares a number\n",
    "def square(x):\n",
    "    return x * x\n",
    "\n",
    "# Define a list of numbers\n",
    "numbers = [1, 2, 3, 4, 5]\n",
    "\n",
    "# Use map to apply the square function to each item in the list\n",
    "squared_numbers = map(square, numbers)\n",
    "\n",
    "# Convert the map object to a list and print it\n",
    "print(list(squared_numbers))\n"
   ]
  },
  {
   "cell_type": "markdown",
   "metadata": {},
   "source": [
    "## Using Lambda with map:\n",
    "     You can use a lambda function to make the code more concise:\n",
    "\n"
   ]
  },
  {
   "cell_type": "code",
   "execution_count": 14,
   "metadata": {},
   "outputs": [
    {
     "name": "stdout",
     "output_type": "stream",
     "text": [
      "[1, 4, 9, 16, 25]\n"
     ]
    }
   ],
   "source": [
    "# Define a list of numbers\n",
    "numbers = [1, 2, 3, 4, 5]\n",
    "\n",
    "# Use map with a lambda function to square each number\n",
    "squared_numbers = map(lambda x: x * x, numbers)\n",
    "\n",
    "# Convert the map object to a list and print it\n",
    "print(list(squared_numbers))\n"
   ]
  },
  {
   "cell_type": "markdown",
   "metadata": {},
   "source": [
    "## Example with Multiple Iterables\n",
    "     You can also use map with multiple iterables. For example, if you want to add corresponding elements of two lists:"
   ]
  },
  {
   "cell_type": "code",
   "execution_count": 15,
   "metadata": {},
   "outputs": [
    {
     "name": "stdout",
     "output_type": "stream",
     "text": [
      "[5, 7, 9]\n"
     ]
    }
   ],
   "source": [
    "# Define two lists of numbers\n",
    "numbers1 = [1, 2, 3]\n",
    "numbers2 = [4, 5, 6]\n",
    "\n",
    "# Use map with a lambda function to add corresponding elements\n",
    "summed_numbers = map(lambda x, y: x + y, numbers1, numbers2)\n",
    "\n",
    "# Convert the map object to a list and print it\n",
    "print(list(summed_numbers))\n"
   ]
  },
  {
   "cell_type": "markdown",
   "metadata": {},
   "source": [
    "## Practical Example\n",
    "     Consider a situation where you have a list of strings and you want to convert each string to uppercase:"
   ]
  },
  {
   "cell_type": "code",
   "execution_count": 16,
   "metadata": {},
   "outputs": [
    {
     "name": "stdout",
     "output_type": "stream",
     "text": [
      "['HELLO', 'WORLD', 'PYTHON']\n"
     ]
    }
   ],
   "source": [
    "# Define a list of strings\n",
    "words = ['hello', 'world', 'python']\n",
    "\n",
    "# Use map with the str.upper method to convert each string to uppercase\n",
    "uppercase_words = map(str.upper, words)\n",
    "\n",
    "# Convert the map object to a list and print it\n",
    "print(list(uppercase_words))\n"
   ]
  },
  {
   "cell_type": "markdown",
   "metadata": {},
   "source": [
    "## Using map with Functions from Modules\n",
    "     You can also use map with functions from other modules. For example, using math.sqrt to find the square root of each number in a list:"
   ]
  },
  {
   "cell_type": "code",
   "execution_count": 17,
   "metadata": {},
   "outputs": [
    {
     "name": "stdout",
     "output_type": "stream",
     "text": [
      "[1.0, 2.0, 3.0, 4.0, 5.0]\n"
     ]
    }
   ],
   "source": [
    "import math\n",
    "\n",
    "# Define a list of numbers\n",
    "numbers = [1, 4, 9, 16, 25]\n",
    "\n",
    "# Use map with math.sqrt to find the square root of each number\n",
    "sqrt_numbers = map(math.sqrt, numbers)\n",
    "\n",
    "# Convert the map object to a list and print it\n",
    "print(list(sqrt_numbers))\n"
   ]
  },
  {
   "cell_type": "markdown",
   "metadata": {},
   "source": [
    "### filter:\n",
    "     The filter function in Python is a built-in function used to construct an iterator from elements of an iterable for which a function returns true. Essentially, it filters out elements that do not meet a specified condition.\n",
    "     Syntax\n",
    "     The syntax of the filter function is:\n",
    "\n",
    "     filter(function, iterable)\n",
    "     function: A function that returns a boolean value (True or False).\n",
    "     iterable: An iterable (e.g., list, tuple, string) whose elements are to be filtered"
   ]
  },
  {
   "cell_type": "markdown",
   "metadata": {},
   "source": [
    "## Basic Example;\n",
    "     Here's a simple example where filter is used to keep only even numbers from a list:"
   ]
  },
  {
   "cell_type": "code",
   "execution_count": 18,
   "metadata": {},
   "outputs": [
    {
     "name": "stdout",
     "output_type": "stream",
     "text": [
      "[2, 4, 6, 8, 10]\n"
     ]
    }
   ],
   "source": [
    "# Define a function that checks if a number is even\n",
    "def is_even(x):\n",
    "    return x % 2 == 0\n",
    "\n",
    "# Define a list of numbers\n",
    "numbers = [1, 2, 3, 4, 5, 6, 7, 8, 9, 10]\n",
    "\n",
    "# Use filter to apply the is_even function to each item in the list\n",
    "even_numbers = filter(is_even, numbers)\n",
    "\n",
    "# Convert the filter object to a list and print it\n",
    "print(list(even_numbers))\n"
   ]
  },
  {
   "cell_type": "markdown",
   "metadata": {},
   "source": [
    "## Using Lambda with filter\n",
    "     You can use a lambda function to make the code more concise:"
   ]
  },
  {
   "cell_type": "code",
   "execution_count": 19,
   "metadata": {},
   "outputs": [
    {
     "name": "stdout",
     "output_type": "stream",
     "text": [
      "[2, 4, 6, 8, 10]\n"
     ]
    }
   ],
   "source": [
    "# Define a list of numbers\n",
    "numbers = [1, 2, 3, 4, 5, 6, 7, 8, 9, 10]\n",
    "\n",
    "# Use filter with a lambda function to filter out even numbers\n",
    "even_numbers = filter(lambda x: x % 2 == 0, numbers)\n",
    "\n",
    "# Convert the filter object to a list and print it\n",
    "print(list(even_numbers))\n"
   ]
  },
  {
   "cell_type": "markdown",
   "metadata": {},
   "source": [
    "## Practical Example\n",
    "     Consider a situation where you have a list of strings and you want to filter out strings that have more than 3 characters:"
   ]
  },
  {
   "cell_type": "code",
   "execution_count": 21,
   "metadata": {},
   "outputs": [
    {
     "name": "stdout",
     "output_type": "stream",
     "text": [
      "['bat', 'car', 'dog']\n"
     ]
    }
   ],
   "source": [
    "# Define a list of strings\n",
    "words = ['apple', 'bat', 'car', 'dog', 'elephant']\n",
    "\n",
    "# Use filter with a lambda function to keep words with 3 or fewer characters\n",
    "short_words = filter(lambda x: len(x) <= 3, words)\n",
    "\n",
    "# Convert the filter object to a list and print it\n",
    "print(list(short_words))\n"
   ]
  },
  {
   "cell_type": "markdown",
   "metadata": {},
   "source": [
    "## Example with Functions from Modules\n",
    "     You can also use filter with functions from other modules. For example, using the str.isdigit method to filter out strings that represent numbers:"
   ]
  },
  {
   "cell_type": "code",
   "execution_count": 22,
   "metadata": {},
   "outputs": [
    {
     "name": "stdout",
     "output_type": "stream",
     "text": [
      "['123', '456', '789']\n"
     ]
    }
   ],
   "source": [
    "# Define a list of strings\n",
    "strings = ['123', 'abc', '456', 'def', '789']\n",
    "\n",
    "# Use filter with str.isdigit to keep strings that are numeric\n",
    "numeric_strings = filter(str.isdigit, strings)\n",
    "\n",
    "# Convert the filter object to a list and print it\n",
    "print(list(numeric_strings))\n"
   ]
  },
  {
   "cell_type": "markdown",
   "metadata": {},
   "source": [
    "### zip function:\n",
    "       The zip function in Python is a built-in function used to aggregate elements from two or more iterables (e.g., lists, tuples) into tuples. It creates an iterator that aggregates elements based on the shortest input iterable.\n",
    "\n",
    "        Syntax\n",
    "        The syntax of the zip function is:\n",
    "        zip(iterable1, iterable2, ...)\n",
    "        iterable1, iterable2, ...: Two or more iterables that you want to aggregate.\n",
    "        Basic Example\n",
    "        Here's a simple example where zip is used to combine two lists:"
   ]
  },
  {
   "cell_type": "code",
   "execution_count": 23,
   "metadata": {},
   "outputs": [
    {
     "name": "stdout",
     "output_type": "stream",
     "text": [
      "[(1, 'a'), (2, 'b'), (3, 'c')]\n"
     ]
    }
   ],
   "source": [
    "# Define two lists\n",
    "list1 = [1, 2, 3]\n",
    "list2 = ['a', 'b', 'c']\n",
    "\n",
    "# Use zip to combine the lists\n",
    "zipped = zip(list1, list2)\n",
    "\n",
    "# Convert the zip object to a list and print it\n",
    "print(list(zipped))\n"
   ]
  },
  {
   "cell_type": "markdown",
   "metadata": {},
   "source": [
    "## Handling Different Lengths of Iterables\n",
    "     If the input iterables are of different lengths, zip stops creating tuples when the shortest input iterable is exhausted:"
   ]
  },
  {
   "cell_type": "code",
   "execution_count": 24,
   "metadata": {},
   "outputs": [
    {
     "name": "stdout",
     "output_type": "stream",
     "text": [
      "[(1, 'a'), (2, 'b')]\n"
     ]
    }
   ],
   "source": [
    "# Define two lists of different lengths\n",
    "list1 = [1, 2, 3, 4]\n",
    "list2 = ['a', 'b']\n",
    "\n",
    "# Use zip to combine the lists\n",
    "zipped = zip(list1, list2)\n",
    "\n",
    "# Convert the zip object to a list and print it\n",
    "print(list(zipped))\n"
   ]
  },
  {
   "cell_type": "markdown",
   "metadata": {},
   "source": [
    "## Unzipping a List of Tuples\n",
    "     You can use the zip function to unzip a list of tuples into individual lists. This is done by using the * operator to unpack the list of tuples:"
   ]
  },
  {
   "cell_type": "code",
   "execution_count": 25,
   "metadata": {},
   "outputs": [
    {
     "name": "stdout",
     "output_type": "stream",
     "text": [
      "[(1, 2, 3), ('a', 'b', 'c')]\n"
     ]
    }
   ],
   "source": [
    "# Define a list of tuples\n",
    "zipped_list = [(1, 'a'), (2, 'b'), (3, 'c')]\n",
    "\n",
    "# Use zip with the unpacking operator to unzip\n",
    "unzipped = zip(*zipped_list)\n",
    "\n",
    "# Convert the unzip result to a list of lists and print it\n",
    "unzipped_list = list(unzipped)\n",
    "print(unzipped_list)\n"
   ]
  },
  {
   "cell_type": "markdown",
   "metadata": {},
   "source": [
    "## Practical Example\n",
    "      Consider a situation where you have lists of names and scores, and you want to combine them into a list of tuples:"
   ]
  },
  {
   "cell_type": "code",
   "execution_count": 26,
   "metadata": {},
   "outputs": [
    {
     "name": "stdout",
     "output_type": "stream",
     "text": [
      "[('Alice', 85), ('Bob', 90), ('Charlie', 95)]\n"
     ]
    }
   ],
   "source": [
    "# Define lists of names and scores\n",
    "names = ['Alice', 'Bob', 'Charlie']\n",
    "scores = [85, 90, 95]\n",
    "\n",
    "# Use zip to combine names and scores\n",
    "students_scores = zip(names, scores)\n",
    "\n",
    "# Convert the zip object to a list and print it\n",
    "print(list(students_scores))\n"
   ]
  },
  {
   "cell_type": "markdown",
   "metadata": {},
   "source": [
    "## Using zip with More Than Two Iterables\n",
    "     You can also use zip with more than two iterables. For example, combining three lists:"
   ]
  },
  {
   "cell_type": "code",
   "execution_count": 27,
   "metadata": {},
   "outputs": [
    {
     "name": "stdout",
     "output_type": "stream",
     "text": [
      "[(1, 'a', True), (2, 'b', False), (3, 'c', True)]\n"
     ]
    }
   ],
   "source": [
    "# Define three lists\n",
    "list1 = [1, 2, 3]\n",
    "list2 = ['a', 'b', 'c']\n",
    "list3 = [True, False, True]\n",
    "\n",
    "# Use zip to combine the three lists\n",
    "zipped = zip(list1, list2, list3)\n",
    "\n",
    "# Convert the zip object to a list and print it\n",
    "print(list(zipped))\n"
   ]
  },
  {
   "cell_type": "markdown",
   "metadata": {},
   "source": [
    "## Using zip with Dictionaries\n",
    "     You can use zip to combine keys and values from dictionaries:"
   ]
  },
  {
   "cell_type": "code",
   "execution_count": 28,
   "metadata": {},
   "outputs": [
    {
     "name": "stdout",
     "output_type": "stream",
     "text": [
      "[('a', 'c'), ('b', 'd')]\n",
      "[(1, 3), (2, 4)]\n"
     ]
    }
   ],
   "source": [
    "# Define two dictionaries\n",
    "dict1 = {'a': 1, 'b': 2}\n",
    "dict2 = {'c': 3, 'd': 4}\n",
    "\n",
    "# Use zip to combine the keys and values\n",
    "zipped_keys = zip(dict1.keys(), dict2.keys())\n",
    "zipped_values = zip(dict1.values(), dict2.values())\n",
    "\n",
    "# Convert the zip objects to lists and print them\n",
    "print(list(zipped_keys))\n",
    "print(list(zipped_values))\n"
   ]
  }
 ],
 "metadata": {
  "kernelspec": {
   "display_name": "Python 3",
   "language": "python",
   "name": "python3"
  },
  "language_info": {
   "codemirror_mode": {
    "name": "ipython",
    "version": 3
   },
   "file_extension": ".py",
   "mimetype": "text/x-python",
   "name": "python",
   "nbconvert_exporter": "python",
   "pygments_lexer": "ipython3",
   "version": "3.12.3"
  }
 },
 "nbformat": 4,
 "nbformat_minor": 2
}
