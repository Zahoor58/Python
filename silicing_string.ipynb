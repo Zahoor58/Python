{
 "cells": [
  {
   "cell_type": "markdown",
   "metadata": {},
   "source": [
    "### silicing string"
   ]
  },
  {
   "cell_type": "code",
   "execution_count": 2,
   "metadata": {},
   "outputs": [
    {
     "name": "stdout",
     "output_type": "stream",
     "text": [
      "py\n",
      "th\n",
      "python\n",
      "ython\n",
      "pyt\n",
      "pto\n",
      "pt\n",
      "nohtyp\n",
      "nohtyp\n",
      "nohtyp\n"
     ]
    }
   ],
   "source": [
    "#silicing string/ selecting sub sequence\n",
    "lang=\"python\"\n",
    "# sentax-[start arguments:end arguments-1]\n",
    "print(lang[0:2])\n",
    "print(lang[2:4])\n",
    "print(lang[:])\n",
    "print(lang[1:])\n",
    "print(lang[:3])\n",
    "# step arguments \n",
    "# sentax-[start arguments:end arguments-1:step]\n",
    "print(lang[0::2])\n",
    "print(lang[0:4:2])\n",
    "print(lang[5::-1])\n",
    "print(lang[-1::-1])\n",
    "print(lang[::-1])"
   ]
  }
 ],
 "metadata": {
  "kernelspec": {
   "display_name": "Python 3",
   "language": "python",
   "name": "python3"
  },
  "language_info": {
   "codemirror_mode": {
    "name": "ipython",
    "version": 3
   },
   "file_extension": ".py",
   "mimetype": "text/x-python",
   "name": "python",
   "nbconvert_exporter": "python",
   "pygments_lexer": "ipython3",
   "version": "3.10.12"
  }
 },
 "nbformat": 4,
 "nbformat_minor": 2
}
