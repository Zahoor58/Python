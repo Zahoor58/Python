{
 "cells": [
  {
   "cell_type": "markdown",
   "metadata": {},
   "source": [
    "### if_elif_else"
   ]
  },
  {
   "cell_type": "code",
   "execution_count": 2,
   "metadata": {},
   "outputs": [
    {
     "name": "stdout",
     "output_type": "stream",
     "text": [
      "Tiket prise: free\n"
     ]
    }
   ],
   "source": [
    "age=input(\"enter your age\")\n",
    "age =int(age)\n",
    "if age==0 or age<0:\n",
    "    print(\"can not watched\")\n",
    "elif 0<age<=3:\n",
    "    print(\"Tiket prise: free\")\n",
    "elif 3<age<=10:\n",
    "    print(\"tiket price:150\")\n",
    "elif 10<age<=60:\n",
    "    print(\"tiket price: 250\")\n",
    "else:\n",
    "    print(\"tiket price :200\")"
   ]
  }
 ],
 "metadata": {
  "kernelspec": {
   "display_name": "Python 3",
   "language": "python",
   "name": "python3"
  },
  "language_info": {
   "codemirror_mode": {
    "name": "ipython",
    "version": 3
   },
   "file_extension": ".py",
   "mimetype": "text/x-python",
   "name": "python",
   "nbconvert_exporter": "python",
   "pygments_lexer": "ipython3",
   "version": "3.10.12"
  }
 },
 "nbformat": 4,
 "nbformat_minor": 2
}
