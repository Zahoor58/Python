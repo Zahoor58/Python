{
 "cells": [
  {
   "cell_type": "markdown",
   "metadata": {},
   "source": [
    "## for loop"
   ]
  },
  {
   "cell_type": "code",
   "execution_count": 1,
   "metadata": {},
   "outputs": [
    {
     "name": "stdout",
     "output_type": "stream",
     "text": [
      "0.hello word\n",
      "1.hello word\n",
      "2.hello word\n",
      "3.hello word\n",
      "4.hello word\n",
      "5.hello word\n",
      "6.hello word\n",
      "7.hello word\n",
      "8.hello word\n",
      "9.hello word\n",
      "1.hello word\n",
      "2.hello word\n",
      "3.hello word\n",
      "4.hello word\n",
      "5.hello word\n",
      "6.hello word\n",
      "7.hello word\n",
      "8.hello word\n",
      "9.hello word\n",
      "10.hello word\n"
     ]
    }
   ],
   "source": [
    "for i in range(10):#0 to 10\n",
    "    print(f\"{i}.hello word\")\n",
    "for i in range(1,11):# 1 to 11\n",
    "    print(f\"{i}.hello word\")"
   ]
  },
  {
   "cell_type": "code",
   "execution_count": 3,
   "metadata": {},
   "outputs": [
    {
     "name": "stdout",
     "output_type": "stream",
     "text": [
      "1\n",
      "3\n",
      "6\n",
      "10\n",
      "15\n",
      "21\n",
      "28\n",
      "36\n",
      "36\n"
     ]
    }
   ],
   "source": [
    "# get a number from user and return its sume \n",
    "number=input(\"enter number\")\n",
    "lenght=len(number)\n",
    "sum=0\n",
    "for i in range(lenght):\n",
    "    sum+=int(number[i])\n",
    "    print(sum)"
   ]
  },
  {
   "cell_type": "code",
   "execution_count": 5,
   "metadata": {},
   "outputs": [
    {
     "name": "stdout",
     "output_type": "stream",
     "text": [
      "# Z : 1\n",
      "# a : 2\n",
      "# h : 2\n",
      "# o : 2\n",
      "# r : 1\n",
      "#   : 1\n",
      "# A : 1\n",
      "# m : 1\n",
      "# d : 1\n"
     ]
    }
   ],
   "source": [
    "# write a program user enter a number and find caractor rep\n",
    "name=input(\"enter your name \")\n",
    "temp=\"\"\n",
    "for i in range(len(name)):\n",
    "    if name[i] not in temp:\n",
    "        print(f\"# {name[i]} : {name.count(name[i])}\")\n",
    "        temp+=name[i]"
   ]
  }
 ],
 "metadata": {
  "kernelspec": {
   "display_name": "Python 3",
   "language": "python",
   "name": "python3"
  },
  "language_info": {
   "codemirror_mode": {
    "name": "ipython",
    "version": 3
   },
   "file_extension": ".py",
   "mimetype": "text/x-python",
   "name": "python",
   "nbconvert_exporter": "python",
   "pygments_lexer": "ipython3",
   "version": "3.12.2"
  }
 },
 "nbformat": 4,
 "nbformat_minor": 2
}
