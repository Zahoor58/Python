{
 "cells": [
  {
   "cell_type": "markdown",
   "metadata": {},
   "source": [
    "1. write a python program to find a list oof integers with  exact occurrences nineteen and at least three  occurences of five. return True and  otherwise reurtn False"
   ]
  },
  {
   "cell_type": "code",
   "execution_count": 3,
   "metadata": {},
   "outputs": [
    {
     "name": "stdout",
     "output_type": "stream",
     "text": [
      "Original list [19, 19, 15, 5, 3, 5, 5, 2]\n",
      "check two accurances of ninteen and atleast three occurances of  five in the  said list: True\n",
      "Check two occurances of ninteen and at least  two occurances of five in the said list: True\n"
     ]
    }
   ],
   "source": [
    "# write a function a name 'test' that takes a list of 'nums' as input \n",
    "def test(nums):\n",
    "    #check if the count of 19 in  'nums' is equal to 2 and  the count of 5 is greater equel to 3\n",
    "    return nums.count(19)==2 and nums.count(5)>=3\n",
    "\n",
    "# create a list 'nums' with specific element \n",
    "\n",
    "nums = [19, 19, 15, 5, 3, 5, 5, 2]\n",
    "\n",
    "#print a the original list\n",
    "print(f\"Original list {nums}\")\n",
    "\n",
    "# print the result of  tes function  appied to the 'nums' list\n",
    "print(f\"check two accurances of ninteen and atleast three occurances of  five in the  said list: {test(nums)}\")\n",
    "\n",
    "# create another  list 'nums' with specific element\n",
    "nums = [19, 19, 5, 5, 5, 5, 5]\n",
    "\n",
    "# print the result of test function applied to the  'nums' list\n",
    "print(f'Check two occurances of ninteen and at least  two occurances of five in the said list: {test(nums)}')"
   ]
  },
  {
   "cell_type": "markdown",
   "metadata": {},
   "source": [
    "# write a python program that accepts a list of integers and calculates the length and the fifth elemet. Return True if  the length of the list is 8 and  the  fifth element in  the said list"
   ]
  },
  {
   "cell_type": "code",
   "execution_count": 9,
   "metadata": {},
   "outputs": [
    {
     "name": "stdout",
     "output_type": "stream",
     "text": [
      "\n",
      "Original list [19, 19, 15, 5, 5, 5, 1, 2]\n",
      "Retrun True if length of list 8 and the fifth accurs thrice in the said list:True\n"
     ]
    }
   ],
   "source": [
    "# def a function  with name as  'test' that takes a  list 'nums' as  integer \n",
    "def test(nums):\n",
    "    #Check if lenght of 'nums' is 8 and the 5  element occurs thrice in the said list \n",
    "    return len(nums)==8 and nums.count(5)==3\n",
    "\n",
    "# create a 'nums' list as integer with specific element\n",
    "nums = [19, 19, 15, 5, 5, 5, 1, 2]\n",
    "# print original list \n",
    "print(f'\\nOriginal list {nums}')\n",
    "# print the result of 'test' function applied the 'nums' list \n",
    "print(f'Retrun True if length of list 8 and the fifth accurs thrice in the said list:{test(nums)}')"
   ]
  },
  {
   "cell_type": "markdown",
   "metadata": {},
   "source": [
    "Write a python program that accepts an integer and determines whether  its  greater than  4*4 and  which is 4 mode 34"
   ]
  },
  {
   "cell_type": "markdown",
   "metadata": {},
   "source": [
    "### Visual Presentation\n"
   ]
  },
  {
   "cell_type": "markdown",
   "metadata": {},
   "source": [
    "![alt text](images/python-programming-puzzles-image-exercise-3-a.png)"
   ]
  },
  {
   "cell_type": "code",
   "execution_count": 2,
   "metadata": {},
   "outputs": [
    {
     "name": "stdout",
     "output_type": "stream",
     "text": [
      "Original Integer: 922\n",
      "Check whether the said integer greater than  4**4 and wich is 4 mod 34: True  \n"
     ]
    }
   ],
   "source": [
    "# define a function named 'test' that takes an interger 'n' as input \n",
    "def test(n):\n",
    "    # check if 'n' is  congtruent  to 4 module 34 and greater than  4**4\n",
    "    return n%34==4 and n>4**4\n",
    "\n",
    "# Assign a specific integer 'n' to the variable \n",
    "n = 922\n",
    "\n",
    "\n",
    "# Print the original integer \n",
    "print(f\"Original Integer: {n}\")\n",
    "\n",
    "# Print the result of the test function applied to the integer 'n'\n",
    "print(f\"Check whether the said integer greater than  4**4 and wich is 4 mod 34: {test(n)}  \")\n",
    "\n"
   ]
  },
  {
   "cell_type": "markdown",
   "metadata": {},
   "source": [
    "4. We are making n stone piles! the first piles has n stones. if n is even, than  all piles have an  even number of stones. if n  is odd, all piles have an odd number of  stones. Each pile  must more stone  than th e previous pile but as few as possible. Write a python  program to find  the  number  of stones in  each pile\n",
    "Input: 2\n",
    "Output:\n",
    "[2, 4]\n",
    "Input: 10\n",
    "Output:\n",
    "[10, 12, 14, 16, 18, 20, 22, 24, 26, 28]\n",
    "Input: 3\n",
    "Output:\n",
    "[3, 5, 7]\n",
    "Input: 17\n",
    "Output:\n",
    "[17, 19, 21, 23, 25, 27, 29, 31, 33, 35, 37, 39, 41, 43, 45, 47, 49]"
   ]
  },
  {
   "cell_type": "markdown",
   "metadata": {},
   "source": [
    "## Visual Presentation\n",
    " ![alt text](images/python-programming-puzzles-image-exercise-4-a.png)"
   ]
  },
  {
   "cell_type": "code",
   "execution_count": 3,
   "metadata": {},
   "outputs": [
    {
     "name": "stdout",
     "output_type": "stream",
     "text": [
      "Number of piles: 2\n",
      "Number of stones in each pile:\n",
      "[2, 4]\n",
      "\n",
      "Number of piles: 10\n",
      "Number of stones in each pile:\n",
      "[10, 12, 14, 16, 18, 20, 22, 24, 26, 28]\n",
      "\n",
      "Number of piles: 3\n",
      "Number of stones in each pile:\n",
      "[3, 5, 7]\n",
      "\n",
      "Number of piles: 17\n",
      "Number of stones in each pile:\n",
      "[17, 19, 21, 23, 25, 27, 29, 31, 33, 35, 37, 39, 41, 43, 45, 47, 49]\n"
     ]
    }
   ],
   "source": [
    "# Define a fuction named 'test' that takes an ineteger 'n' as input \n",
    "def test(n):\n",
    "    # Use a list comprehension  to generate a list of values: n+2*i for i in the range  from 0 to n-1\n",
    "    return [n+2*i for i in range(n)]\n",
    "\n",
    "# Assign a specific integer 'n' to the variable\n",
    "n = 2\n",
    "\n",
    "# Print the number of piles\n",
    "print(\"Number of piles:\", n)\n",
    "\n",
    "# Print the header for the output\n",
    "print(\"Number of stones in each pile:\")\n",
    "\n",
    "# Print the result of the test function applied to the integer 'n'\n",
    "print(test(n))\n",
    "\n",
    "# Assign a different integer 'n' to the variable\n",
    "n = 10\n",
    "\n",
    "# Print the number of piles\n",
    "print(\"\\nNumber of piles:\", n)\n",
    "\n",
    "# Print the header for the output\n",
    "print(\"Number of stones in each pile:\")\n",
    "\n",
    "# Print the result of the test function applied to the modified integer 'n'\n",
    "print(test(n))\n",
    "\n",
    "# Assign another integer 'n' to the variable\n",
    "n = 3\n",
    "\n",
    "# Print the number of piles\n",
    "print(\"\\nNumber of piles:\", n)\n",
    "\n",
    "# Print the header for the output\n",
    "print(\"Number of stones in each pile:\")\n",
    "\n",
    "# Print the result of the test function applied to the modified integer 'n'\n",
    "print(test(n))\n",
    "\n",
    "# Assign yet another integer 'n' to the variable\n",
    "n = 17\n",
    "\n",
    "# Print the number of piles\n",
    "print(\"\\nNumber of piles:\", n)\n",
    "\n",
    "# Print the header for the output\n",
    "print(\"Number of stones in each pile:\")\n",
    "\n",
    "# Print the result of the test function applied to the modified integer 'n'\n",
    "print(test(n))"
   ]
  },
  {
   "cell_type": "markdown",
   "metadata": {},
   "source": [
    "## Flowchart:\n",
    "![alt text](python-programming-pizzles-flowchart-4.png)"
   ]
  }
 ],
 "metadata": {
  "kernelspec": {
   "display_name": "Python 3",
   "language": "python",
   "name": "python3"
  },
  "language_info": {
   "codemirror_mode": {
    "name": "ipython",
    "version": 3
   },
   "file_extension": ".py",
   "mimetype": "text/x-python",
   "name": "python",
   "nbconvert_exporter": "python",
   "pygments_lexer": "ipython3",
   "version": "3.12.3"
  }
 },
 "nbformat": 4,
 "nbformat_minor": 2
}
