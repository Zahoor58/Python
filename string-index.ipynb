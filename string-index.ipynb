{
 "cells": [
  {
   "cell_type": "markdown",
   "metadata": {},
   "source": [
    "### String index"
   ]
  },
  {
   "cell_type": "code",
   "execution_count": 5,
   "metadata": {},
   "outputs": [
    {
     "data": {
      "text/plain": [
       "'\\nPosition(index numper)\\np = 0, -6\\ny = 1, -5 \\nt = 2, -4\\nh = 3, -3\\no = 4, -2\\nn = 5, -1\\n\\n'"
      ]
     },
     "execution_count": 5,
     "metadata": {},
     "output_type": "execute_result"
    }
   ],
   "source": [
    "language = \"python\"\n",
    "\"\"\"\n",
    "Position(index numper)\n",
    "p = 0, -6\n",
    "y = 1, -5 \n",
    "t = 2, -4\n",
    "h = 3, -3\n",
    "o = 4, -2\n",
    "n = 5, -1\n",
    "\n",
    "\"\"\""
   ]
  },
  {
   "cell_type": "code",
   "execution_count": 13,
   "metadata": {},
   "outputs": [
    {
     "name": "stdout",
     "output_type": "stream",
     "text": [
      "t\n",
      "t\n",
      "o\n",
      "o\n"
     ]
    }
   ],
   "source": [
    "# print t from langauge\n",
    "print(language[2])\n",
    "# or \n",
    "print(language[-4])\n",
    "# print 0 from langauge\n",
    "print(language[4])\n",
    "# or\n",
    "print(language[-2])"
   ]
  },
  {
   "cell_type": "code",
   "execution_count": 14,
   "metadata": {},
   "outputs": [],
   "source": []
  },
  {
   "cell_type": "code",
   "execution_count": null,
   "metadata": {},
   "outputs": [],
   "source": []
  }
 ],
 "metadata": {
  "kernelspec": {
   "display_name": "Python 3",
   "language": "python",
   "name": "python3"
  },
  "language_info": {
   "codemirror_mode": {
    "name": "ipython",
    "version": 3
   },
   "file_extension": ".py",
   "mimetype": "text/x-python",
   "name": "python",
   "nbconvert_exporter": "python",
   "pygments_lexer": "ipython3",
   "version": "3.10.12"
  }
 },
 "nbformat": 4,
 "nbformat_minor": 2
}
