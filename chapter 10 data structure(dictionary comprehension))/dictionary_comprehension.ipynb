{
 "cells": [
  {
   "cell_type": "code",
   "execution_count": 3,
   "metadata": {},
   "outputs": [
    {
     "name": "stdout",
     "output_type": "stream",
     "text": [
      "{1: 1, 2: 4, 9: 9}\n"
     ]
    }
   ],
   "source": [
    "# Dictionary comprehension\n",
    "square={1:1,2:4,9:9}\n",
    "print(square)"
   ]
  },
  {
   "cell_type": "code",
   "execution_count": 12,
   "metadata": {},
   "outputs": [
    {
     "name": "stdout",
     "output_type": "stream",
     "text": [
      "{'Square of 2 is 4', 'Square of 7 is 49', 'Square of 9 is 81', 'Square of 8 is 64', 'Square of 4 is 16', 'Square of 6 is 36', 'Square of 5 is 25', 'Square of 1 is 1', 'Square of 3 is 9'}\n"
     ]
    }
   ],
   "source": [
    "# Using Dictionary Comprehension\n",
    "Square_new= { num: num**2 for num in range(1,11)}\n",
    "print(Square)"
   ]
  },
  {
   "cell_type": "code",
   "execution_count": 9,
   "metadata": {},
   "outputs": [
    {
     "data": {
      "text/plain": [
       "{'Square of 1 is 1',\n",
       " 'Square of 2 is 4',\n",
       " 'Square of 3 is 9',\n",
       " 'Square of 4 is 16',\n",
       " 'Square of 5 is 25',\n",
       " 'Square of 6 is 36',\n",
       " 'Square of 7 is 49',\n",
       " 'Square of 8 is 64',\n",
       " 'Square of 9 is 81'}"
      ]
     },
     "execution_count": 9,
     "metadata": {},
     "output_type": "execute_result"
    }
   ],
   "source": [
    "Square = {f\"Square of {num} is {num**2}\" for num in range(1,10)}\n",
    "Square"
   ]
  },
  {
   "cell_type": "code",
   "execution_count": 13,
   "metadata": {},
   "outputs": [
    {
     "name": "stdout",
     "output_type": "stream",
     "text": [
      "1 : 1\n",
      "2 : 4\n",
      "3 : 9\n",
      "4 : 16\n",
      "5 : 25\n",
      "6 : 36\n",
      "7 : 49\n",
      "8 : 64\n",
      "9 : 81\n",
      "10 : 100\n"
     ]
    }
   ],
   "source": [
    "for k, v in Square_new.items():\n",
    "    print(f\"{k} : {v}\")"
   ]
  },
  {
   "cell_type": "code",
   "execution_count": 32,
   "metadata": {},
   "outputs": [
    {
     "name": "stdout",
     "output_type": "stream",
     "text": [
      "{'q': 5, 't': 4}\n",
      "20\n"
     ]
    }
   ],
   "source": [
    "string=\"qtqtqtqtq\"\n",
    "words_count ={char:string.count(char) for char in string}\n",
    "print(words_count)\n",
    "result=1\n",
    "for k,v in words_count.items():\n",
    "    result*=v\n",
    "\n",
    "print(result)\n",
    "\n",
    "\n",
    "\n"
   ]
  },
  {
   "cell_type": "code",
   "execution_count": 39,
   "metadata": {},
   "outputs": [
    {
     "name": "stdout",
     "output_type": "stream",
     "text": [
      "{1: 'odd', 2: 'even', 3: 'odd', 4: 'even', 5: 'odd', 6: 'even', 7: 'odd', 8: 'even', 9: 'odd', 10: 'even'}\n"
     ]
    }
   ],
   "source": [
    "# dictionary with if else statement\n",
    "odd_even = {i:(\"even\" if i%2==0 else \"odd\") for i in range(1,11)}\n",
    "print(odd_even)"
   ]
  }
 ],
 "metadata": {
  "language_info": {
   "name": "python"
  }
 },
 "nbformat": 4,
 "nbformat_minor": 2
}
