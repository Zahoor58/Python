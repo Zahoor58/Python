{
 "cells": [
  {
   "cell_type": "markdown",
   "metadata": {},
   "source": [
    "# dictionary \n",
    "            Why we use dictionaries?\n",
    "            because of limition of list, lists are not enough to peresent read data\n",
    "            Example:- user =[\"Zahoor\",23,['coco', 'kimi no wa na'], ['aweking,'fairy tale']]\n",
    "            Note: you can do this  but this  is not a  good way\n",
    "            What are dictionaries?\n",
    "                                 unordered collection of data is key pair\n",
    "            How to create a  dictionary ?\n",
    "                                 user={'name':'Zahoor','Age':23}\n"
   ]
  },
  {
   "cell_type": "code",
   "execution_count": 4,
   "metadata": {},
   "outputs": [
    {
     "name": "stdout",
     "output_type": "stream",
     "text": [
      "{'Name': 'Zahoor', 'Age': 24}\n",
      "<class 'dict'>\n"
     ]
    }
   ],
   "source": [
    "# create a dictionary\n",
    "User = {\"Name\" : \"Zahoor\", \"Age\" : 24}\n",
    "print(User)\n",
    "print(type(User))"
   ]
  },
  {
   "cell_type": "code",
   "execution_count": 6,
   "metadata": {},
   "outputs": [
    {
     "name": "stdout",
     "output_type": "stream",
     "text": [
      "{'Name': 'Zahoor', 'Age': 24}\n"
     ]
    }
   ],
   "source": [
    "# Second method to  create dictionary\n",
    "User1 = dict(Name=\"Zahoor\", Age=24)\n",
    "print(User1)"
   ]
  },
  {
   "cell_type": "code",
   "execution_count": 8,
   "metadata": {},
   "outputs": [
    {
     "name": "stdout",
     "output_type": "stream",
     "text": [
      "Zahoor\n",
      "24\n"
     ]
    }
   ],
   "source": [
    "# How access data from dictionary \n",
    "# Note:- There is no indexing because of unordered collection of data, we use key to access value\n",
    "print(User['Name']) \n",
    "print(User['Age'])"
   ]
  },
  {
   "cell_type": "markdown",
   "metadata": {},
   "source": [
    "### Which type of data does dictionary store?\n",
    "                                          Anything number, string, list, dictionary"
   ]
  },
  {
   "cell_type": "code",
   "execution_count": 11,
   "metadata": {},
   "outputs": [
    {
     "name": "stdout",
     "output_type": "stream",
     "text": [
      "{'Name': 'Zahoor', 'Age': 24, 'FavMovies': ['Coco', 'Kini no'], 'FavToness': ['Aweking', 'Fair tales']}\n"
     ]
    }
   ],
   "source": [
    "UserInfo = {\n",
    "    'Name' : 'Zahoor',\n",
    "    'Age' : 24,\n",
    "    'FavMovies' : ['Coco', 'Kini no'],\n",
    "    'FavToness' : ['Aweking', 'Fair tales']\n",
    "}\n",
    "print(UserInfo)"
   ]
  },
  {
   "cell_type": "code",
   "execution_count": 12,
   "metadata": {},
   "outputs": [
    {
     "name": "stdout",
     "output_type": "stream",
     "text": [
      "{'User1': {'Name': 'Zahoor', 'Age': 24}, 'User2': {'Name': 'Zahoor', 'Age': 24}}\n"
     ]
    }
   ],
   "source": [
    "# How store dictionary in dictionary \n",
    "Users = {\n",
    "    'User1' : User,\n",
    "    'User2' : User1\n",
    "}\n",
    "\n",
    "print(Users)"
   ]
  },
  {
   "cell_type": "code",
   "execution_count": 14,
   "metadata": {},
   "outputs": [
    {
     "name": "stdout",
     "output_type": "stream",
     "text": [
      "{'Name': 'Zahoor', 'Age': 24}\n"
     ]
    }
   ],
   "source": [
    "# How to add data in empty dictionary\n",
    "UserInfo2 = {}\n",
    "UserInfo2['Name'] = \"Zahoor\"\n",
    "UserInfo2['Age'] = 24\n",
    "print(UserInfo2)"
   ]
  },
  {
   "cell_type": "code",
   "execution_count": 21,
   "metadata": {},
   "outputs": [
    {
     "name": "stdout",
     "output_type": "stream",
     "text": [
      "not Present\n",
      "Present\n",
      "Present\n"
     ]
    }
   ],
   "source": [
    "# in keyword and Iteration loop in dictionary \n",
    "# Check if key exist in dictionary\n",
    "if \"Name1\" in UserInfo:\n",
    "    print(\"Present\")\n",
    "else:\n",
    "    print(\"not Present\")\n",
    "\n",
    "\n",
    "if \"Name\" in UserInfo:\n",
    "    print(\"Present\")\n",
    "else:\n",
    "    print(\"not Present\")\n",
    "\n",
    "if \"Name\" or \"Age\" in UserInfo:\n",
    "    print(\"Present\")\n",
    "else:\n",
    "    print(\"not Present\")\n",
    "# Note:- Mostly key user string and  int"
   ]
  },
  {
   "cell_type": "code",
   "execution_count": 22,
   "metadata": {},
   "outputs": [
    {
     "name": "stdout",
     "output_type": "stream",
     "text": [
      "Name\n",
      "Age\n",
      "FavMovies\n",
      "FavToness\n"
     ]
    }
   ],
   "source": [
    "# print all key values\n",
    "for i in UserInfo:\n",
    "    print(i)"
   ]
  },
  {
   "cell_type": "code",
   "execution_count": 23,
   "metadata": {},
   "outputs": [
    {
     "name": "stdout",
     "output_type": "stream",
     "text": [
      "Zahoor\n",
      "24\n",
      "['Coco', 'Kini no']\n",
      "['Aweking', 'Fair tales']\n"
     ]
    }
   ],
   "source": [
    "# Print all values\n",
    "for i in UserInfo.values():\n",
    "    print(i)"
   ]
  },
  {
   "cell_type": "code",
   "execution_count": 24,
   "metadata": {},
   "outputs": [
    {
     "name": "stdout",
     "output_type": "stream",
     "text": [
      "dict_values(['Zahoor', 24, ['Coco', 'Kini no'], ['Aweking', 'Fair tales']])\n"
     ]
    }
   ],
   "source": [
    "# values Method \n",
    "UserInfoValues = UserInfo.values()\n",
    "print(UserInfoValues)"
   ]
  },
  {
   "cell_type": "code",
   "execution_count": 25,
   "metadata": {},
   "outputs": [
    {
     "name": "stdout",
     "output_type": "stream",
     "text": [
      "Zahoor\n",
      "24\n",
      "['Coco', 'Kini no']\n",
      "['Aweking', 'Fair tales']\n"
     ]
    }
   ],
   "source": [
    "# print dictionary value with help of it's key \n",
    "for i in UserInfo:\n",
    "    print(UserInfo[i])"
   ]
  },
  {
   "cell_type": "code",
   "execution_count": 26,
   "metadata": {},
   "outputs": [
    {
     "name": "stdout",
     "output_type": "stream",
     "text": [
      "dict_items([('Name', 'Zahoor'), ('Age', 24), ('FavMovies', ['Coco', 'Kini no']), ('FavToness', ['Aweking', 'Fair tales'])])\n"
     ]
    }
   ],
   "source": [
    "# Item method and item return tuple object\n",
    "UserInfoItems = UserInfo.items()\n",
    "print(UserInfoItems)"
   ]
  },
  {
   "cell_type": "code",
   "execution_count": 28,
   "metadata": {},
   "outputs": [
    {
     "name": "stdout",
     "output_type": "stream",
     "text": [
      "<class 'dict_items'>\n"
     ]
    }
   ],
   "source": [
    "print(type(UserInfoItems))"
   ]
  },
  {
   "cell_type": "code",
   "execution_count": 29,
   "metadata": {},
   "outputs": [
    {
     "name": "stdout",
     "output_type": "stream",
     "text": [
      " Name : Zahoor\n",
      " Age : 24\n",
      " FavMovies : ['Coco', 'Kini no']\n",
      " FavToness : ['Aweking', 'Fair tales']\n"
     ]
    }
   ],
   "source": [
    "for Key, Value in UserInfo.items():\n",
    "    print(f\" {Key} : {Value}\")"
   ]
  },
  {
   "cell_type": "code",
   "execution_count": 36,
   "metadata": {},
   "outputs": [
    {
     "name": "stdout",
     "output_type": "stream",
     "text": [
      "{'Name': 'Zahoor', 'Age': 24, 'FavMovies': ['Coco', 'Kini no'], 'FavToness': ['Aweking', 'Fair tales'], 'FavSong': ['Song1', 'Song2']}\n"
     ]
    }
   ],
   "source": [
    "# Add and delete data from dictionary \n",
    "# add \n",
    "UserInfo['FavSong'] = ['Song1', 'Song2']\n",
    "print(UserInfo)"
   ]
  },
  {
   "cell_type": "code",
   "execution_count": 38,
   "metadata": {},
   "outputs": [
    {
     "name": "stdout",
     "output_type": "stream",
     "text": [
      "['Song1', 'Song2']\n",
      "{'Name': 'Zahoor', 'Age': 24, 'FavMovies': ['Coco', 'Kini no'], 'FavToness': ['Aweking', 'Fair tales']}\n"
     ]
    }
   ],
   "source": [
    "# pop method delete key pair\n",
    "PoppedItem = UserInfo.pop('FavSong')\n",
    "print(PoppedItem)\n",
    "print(UserInfo)"
   ]
  },
  {
   "cell_type": "code",
   "execution_count": 40,
   "metadata": {},
   "outputs": [
    {
     "name": "stdout",
     "output_type": "stream",
     "text": [
      "('FavMovies', ['Coco', 'Kini no'])\n",
      "{'Name': 'Zahoor', 'Age': 24}\n"
     ]
    }
   ],
   "source": [
    "# pop item method \n",
    "PoppedItem1 = UserInfo.popitem() # it's randomly delete item in dictionary\n",
    "print(PoppedItem1)\n",
    "print(UserInfo)\n"
   ]
  },
  {
   "cell_type": "code",
   "execution_count": 41,
   "metadata": {},
   "outputs": [
    {
     "name": "stdout",
     "output_type": "stream",
     "text": [
      "{'Name': 'Zahoor', 'Age': 24, 'Hobbies': ['Singing', 'reading']}\n"
     ]
    }
   ],
   "source": [
    "# Updata Dictionary \n",
    "MoreUserInfo = {\n",
    "    'Hobbies' : ['Singing', 'reading']\n",
    "}\n",
    "UserInfo.update(MoreUserInfo)\n",
    "print(UserInfo)"
   ]
  },
  {
   "cell_type": "code",
   "execution_count": 44,
   "metadata": {},
   "outputs": [
    {
     "name": "stdout",
     "output_type": "stream",
     "text": [
      "{'Name': 'Unknown', 'Age': None}\n",
      "{'Name': 'Unknown', 'Age': 'Unknown', 'Hight': 'Unknown'}\n"
     ]
    }
   ],
   "source": [
    "# Formkeys method:- use for assing mulltiply key/valus\n",
    "\n",
    "d1={\"Name\":'Unknown', 'Age':None}\n",
    "d2=dict.fromkeys(['Name','Age', 'Hight'],'Unknown')\n",
    "print(d1)\n",
    "print(d2)"
   ]
  },
  {
   "cell_type": "code",
   "execution_count": 46,
   "metadata": {},
   "outputs": [
    {
     "name": "stdout",
     "output_type": "stream",
     "text": [
      "Unknown\n",
      "Unknown\n"
     ]
    }
   ],
   "source": [
    "# get method \n",
    "print(d1['Name'])\n",
    "print(d1.get('Name'))\n"
   ]
  },
  {
   "cell_type": "code",
   "execution_count": 47,
   "metadata": {},
   "outputs": [
    {
     "name": "stdout",
     "output_type": "stream",
     "text": [
      "P\n"
     ]
    }
   ],
   "source": [
    "if 'Name' in  d1:\n",
    "    print('P')\n",
    "else:\n",
    "    print('NP')"
   ]
  },
  {
   "cell_type": "code",
   "execution_count": 49,
   "metadata": {},
   "outputs": [
    {
     "name": "stdout",
     "output_type": "stream",
     "text": [
      "P\n"
     ]
    }
   ],
   "source": [
    "if d1.get('Name'):\n",
    "    print(\"P\")\n",
    "else:\n",
    "    print(\"NP\")"
   ]
  },
  {
   "cell_type": "code",
   "execution_count": 51,
   "metadata": {},
   "outputs": [
    {
     "name": "stdout",
     "output_type": "stream",
     "text": [
      "{}\n"
     ]
    }
   ],
   "source": [
    "# Clear method\n",
    "d1.clear()\n",
    "print(d1)"
   ]
  },
  {
   "cell_type": "code",
   "execution_count": 52,
   "metadata": {},
   "outputs": [
    {
     "name": "stdout",
     "output_type": "stream",
     "text": [
      "{'Name': 'Unknown', 'Age': 'Unknown', 'Hight': 'Unknown'}\n"
     ]
    }
   ],
   "source": [
    "d1=d2.copy()\n",
    "print(d1)"
   ]
  },
  {
   "cell_type": "code",
   "execution_count": 56,
   "metadata": {},
   "outputs": [
    {
     "name": "stdout",
     "output_type": "stream",
     "text": [
      "False\n",
      "True\n"
     ]
    }
   ],
   "source": [
    "print( d1 is d2)\n",
    "print(d1 == d2)"
   ]
  },
  {
   "cell_type": "code",
   "execution_count": 59,
   "metadata": {},
   "outputs": [
    {
     "name": "stdout",
     "output_type": "stream",
     "text": [
      "Zahoor\n",
      "24\n"
     ]
    }
   ],
   "source": [
    "# more about get , two same  keys  in dictionary \n",
    "UserInfoMoreTwo = {'Name':'Zahoor','Age':23, 'Age':24} # overide first value \n",
    "print(UserInfoMoreTwo.get('Name'))\n",
    "print(UserInfoMoreTwo.get(\"Age\"))"
   ]
  },
  {
   "cell_type": "code",
   "execution_count": 61,
   "metadata": {},
   "outputs": [
    {
     "name": "stdout",
     "output_type": "stream",
     "text": [
      "{0: 0, 1: 1, 2: 8, 3: 27, 4: 64, 5: 125, 6: 216, 7: 343, 8: 512, 9: 729}\n"
     ]
    }
   ],
   "source": [
    "# Define  a function that takes a number n return  a dictionary cube of numbers from 1 to n\n",
    "\n",
    "def DictionaryCube(n):\n",
    "    DictCube={}\n",
    "    for i  in range(n):\n",
    "        DictCube[i] = i**3\n",
    "    return DictCube\n",
    "\n",
    "print(DictionaryCube(10))\n"
   ]
  },
  {
   "cell_type": "code",
   "execution_count": null,
   "metadata": {},
   "outputs": [],
   "source": []
  }
 ],
 "metadata": {
  "kernelspec": {
   "display_name": "Python 3",
   "language": "python",
   "name": "python3"
  },
  "language_info": {
   "codemirror_mode": {
    "name": "ipython",
    "version": 3
   },
   "file_extension": ".py",
   "mimetype": "text/x-python",
   "name": "python",
   "nbconvert_exporter": "python",
   "pygments_lexer": "ipython3",
   "version": "3.12.2"
  }
 },
 "nbformat": 4,
 "nbformat_minor": 2
}
