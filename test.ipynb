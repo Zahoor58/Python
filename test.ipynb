{
 "cells": [
  {
   "cell_type": "code",
   "execution_count": 1,
   "metadata": {},
   "outputs": [],
   "source": [
    "# Given a string s, your task is to find the top three most common characters in the string.\n",
    "\n",
    "# Print the three most common characters along with their occurrence count.\n",
    "# Sort in descending order of occurrence count.\n",
    "# If the occurrence count is the same, sort the characters in alphabetical order.\n",
    "# Constraints:\n",
    "# len(s) > 3\n",
    "# At least three distinct chars in s\n",
    "\n",
    "# For example, according to the conditions described above,\n",
    "# Input = aaabbbbccde\n",
    "# Output:\n",
    "# b 4\n",
    "# a 3\n",
    "# c 2\n",
    "# \"\"\""
   ]
  },
  {
   "cell_type": "code",
   "execution_count": 14,
   "metadata": {},
   "outputs": [
    {
     "name": "stdout",
     "output_type": "stream",
     "text": [
      "b 4\n",
      "a 3\n",
      "c 3\n",
      "d 1\n",
      "e 1\n",
      "None\n"
     ]
    }
   ],
   "source": [
    "from collections import Counter\n",
    "def TopThreeMostCommonChar(s):\n",
    "    fre=Counter(s)\n",
    "    sort_char=sorted(fre.items(), key=lambda x :(-x[-1],x[0]))\n",
    "    for char, freq in sort_char:\n",
    "        print(f\"{char} {freq}\")\n",
    "        \n",
    "    \n",
    "\n",
    "    \n",
    "\n",
    "\n",
    "print(TopThreeMostCommonChar(\"cccbbbbaaade\"))\n"
   ]
  },
  {
   "cell_type": "code",
   "execution_count": null,
   "metadata": {},
   "outputs": [],
   "source": []
  }
 ],
 "metadata": {
  "kernelspec": {
   "display_name": "Python 3",
   "language": "python",
   "name": "python3"
  },
  "language_info": {
   "codemirror_mode": {
    "name": "ipython",
    "version": 3
   },
   "file_extension": ".py",
   "mimetype": "text/x-python",
   "name": "python",
   "nbconvert_exporter": "python",
   "pygments_lexer": "ipython3",
   "version": "3.12.4"
  }
 },
 "nbformat": 4,
 "nbformat_minor": 2
}
