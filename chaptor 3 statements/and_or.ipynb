{
 "cells": [
  {
   "cell_type": "markdown",
   "metadata": {},
   "source": [
    "### And and OR operator"
   ]
  },
  {
   "cell_type": "code",
   "execution_count": 2,
   "metadata": {},
   "outputs": [
    {
     "name": "stdout",
     "output_type": "stream",
     "text": [
      "condition True\n",
      "condition True\n"
     ]
    }
   ],
   "source": [
    "name='abc'\n",
    "age=23\n",
    "if name=='abc' and age==23:\n",
    "    print(\"condition True\")\n",
    "else:\n",
    "    print(\"Condition False\")\n",
    "if name=='ab' or age==23:\n",
    "    print(\"condition True\")\n",
    "else:\n",
    "    print(\"Condition False\")  "
   ]
  }
 ],
 "metadata": {
  "kernelspec": {
   "display_name": "Python 3",
   "language": "python",
   "name": "python3"
  },
  "language_info": {
   "codemirror_mode": {
    "name": "ipython",
    "version": 3
   },
   "file_extension": ".py",
   "mimetype": "text/x-python",
   "name": "python",
   "nbconvert_exporter": "python",
   "pygments_lexer": "ipython3",
   "version": "3.10.12"
  }
 },
 "nbformat": 4,
 "nbformat_minor": 2
}
