{
 "cells": [
  {
   "cell_type": "markdown",
   "metadata": {},
   "source": [
    "check_empty_not"
   ]
  },
  {
   "cell_type": "code",
   "execution_count": 3,
   "metadata": {},
   "outputs": [
    {
     "name": "stdout",
     "output_type": "stream",
     "text": [
      "your name is Zahoor\n"
     ]
    }
   ],
   "source": [
    "name=input(\"enter your name\")\n",
    "if name:\n",
    "    print(f\"your name is {name}\")\n",
    "else:\n",
    "    print(\"empty\")"
   ]
  }
 ],
 "metadata": {
  "kernelspec": {
   "display_name": "Python 3",
   "language": "python",
   "name": "python3"
  },
  "language_info": {
   "codemirror_mode": {
    "name": "ipython",
    "version": 3
   },
   "file_extension": ".py",
   "mimetype": "text/x-python",
   "name": "python",
   "nbconvert_exporter": "python",
   "pygments_lexer": "ipython3",
   "version": "3.12.2"
  }
 },
 "nbformat": 4,
 "nbformat_minor": 2
}
