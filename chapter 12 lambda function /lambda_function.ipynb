{
 "cells": [
  {
   "cell_type": "markdown",
   "metadata": {},
   "source": [
    "In Python, lambda is used to create small, anonymous functions on the fly. These functions are often referred to as \"lambda functions\" or \"anonymous functions\" because they don't require a name (i.e., they are not bound to an identifier). A lambda function can have any number of parameters, but it can only have one expression. The expression is evaluated and returned.\n",
    "\n",
    "## Syntax of a Lambda Function\n",
    "     The basic syntax of a lambda function is:"
   ]
  },
  {
   "cell_type": "markdown",
   "metadata": {},
   "source": [
    "lambda arguments: expression\n"
   ]
  },
  {
   "cell_type": "markdown",
   "metadata": {},
   "source": [
    "## Characteristics of Lambda Functions\n",
    "        Anonymous: Lambda functions are not bound to a name.\n",
    "        Inline: Lambda functions are often used where function objects are required and are typically used for short, simple operations.\n",
    "        Single Expression: A lambda function can have only one expression. This expression is implicitly returned.\n",
    "        Use Cases for Lambda Functions\n",
    "        Lambda functions are commonly used in situations where you need a small function for a short period, such as within map(), filter(), sorted(), and other higher-order functions."
   ]
  },
  {
   "cell_type": "markdown",
   "metadata": {},
   "source": [
    "## Examples\n",
    "        Example 1: Basic Lambda Function"
   ]
  },
  {
   "cell_type": "code",
   "execution_count": 1,
   "metadata": {},
   "outputs": [
    {
     "name": "stdout",
     "output_type": "stream",
     "text": [
      "8\n",
      "8\n"
     ]
    }
   ],
   "source": [
    "# Normal function\n",
    "def add(x, y):\n",
    "    return x + y\n",
    "\n",
    "# Equivalent lambda function\n",
    "add_lambda = lambda x, y: x + y\n",
    "\n",
    "# Usage\n",
    "print(add(3, 5))          # Output: 8\n",
    "print(add_lambda(3, 5))   # Output: 8"
   ]
  },
  {
   "cell_type": "markdown",
   "metadata": {},
   "source": [
    "      Example 2: Lambda with map()"
   ]
  },
  {
   "cell_type": "code",
   "execution_count": 2,
   "metadata": {},
   "outputs": [
    {
     "name": "stdout",
     "output_type": "stream",
     "text": [
      "[1, 4, 9, 16, 25]\n"
     ]
    }
   ],
   "source": [
    "# List of numbers\n",
    "numbers = [1, 2, 3, 4, 5]\n",
    "\n",
    "# Using map() with a lambda function to square each number\n",
    "squared = list(map(lambda x: x ** 2, numbers))\n",
    "\n",
    "print(squared)  # Output: [1, 4, 9, 16, 25]"
   ]
  },
  {
   "cell_type": "markdown",
   "metadata": {},
   "source": [
    "        Example 3: Lambda with filter()"
   ]
  },
  {
   "cell_type": "code",
   "execution_count": 3,
   "metadata": {},
   "outputs": [
    {
     "name": "stdout",
     "output_type": "stream",
     "text": [
      "[2, 4, 6, 8, 10]\n"
     ]
    }
   ],
   "source": [
    "# List of numbers\n",
    "numbers = [1, 2, 3, 4, 5, 6, 7, 8, 9, 10]\n",
    "\n",
    "# Using filter() with a lambda function to get even numbers\n",
    "evens = list(filter(lambda x: x % 2 == 0, numbers))\n",
    "\n",
    "print(evens)  # Output: [2, 4, 6, 8, 10]\n"
   ]
  },
  {
   "cell_type": "markdown",
   "metadata": {},
   "source": [
    "        Example 4: Lambda with sorted()"
   ]
  },
  {
   "cell_type": "code",
   "execution_count": 4,
   "metadata": {},
   "outputs": [
    {
     "name": "stdout",
     "output_type": "stream",
     "text": [
      "[(5, 0), (4, 1), (3, 2), (2, 3)]\n"
     ]
    }
   ],
   "source": [
    "# List of tuples\n",
    "points = [(2, 3), (4, 1), (3, 2), (5, 0)]\n",
    "\n",
    "# Sorting the list of tuples by the second value in each tuple\n",
    "sorted_points = sorted(points, key=lambda point: point[1])\n",
    "\n",
    "print(sorted_points)  # Output: [(5, 0), (4, 1), (3, 2), (2, 3)]"
   ]
  },
  {
   "cell_type": "markdown",
   "metadata": {},
   "source": [
    "## Why Use Lambda Functions?\n",
    "        Conciseness: Lambda functions allow for writing concise and clear code when a simple function is needed temporarily.\n",
    "        Functional Programming: They are particularly useful in functional programming paradigms where functions are first-class citizens and can be passed as arguments to other functions.\n",
    "        Readability: In some cases, using a lambda function can make the code more readable by reducing the boilerplate code for simple functions."
   ]
  },
  {
   "cell_type": "code",
   "execution_count": 5,
   "metadata": {},
   "outputs": [],
   "source": [
    "multiplay = lambda a,b : a + b"
   ]
  },
  {
   "cell_type": "code",
   "execution_count": 6,
   "metadata": {},
   "outputs": [
    {
     "name": "stdout",
     "output_type": "stream",
     "text": [
      "4\n"
     ]
    }
   ],
   "source": [
    "print(multiplay(1,3))"
   ]
  },
  {
   "cell_type": "code",
   "execution_count": 8,
   "metadata": {},
   "outputs": [
    {
     "name": "stdout",
     "output_type": "stream",
     "text": [
      "True\n",
      "False\n"
     ]
    }
   ],
   "source": [
    "is_even = lambda a: a%2==0\n",
    "\n",
    "print(is_even(2))\n",
    "print(is_even(3))"
   ]
  },
  {
   "cell_type": "code",
   "execution_count": 9,
   "metadata": {},
   "outputs": [
    {
     "name": "stdout",
     "output_type": "stream",
     "text": [
      "r\n"
     ]
    }
   ],
   "source": [
    "last_charactor = lambda s:s[-1]\n",
    "print(last_charactor(\"Zahoor\"))"
   ]
  },
  {
   "cell_type": "code",
   "execution_count": 12,
   "metadata": {},
   "outputs": [
    {
     "name": "stdout",
     "output_type": "stream",
     "text": [
      "Even\n",
      "Odd\n"
     ]
    }
   ],
   "source": [
    "# if and else statement with lambda \n",
    "check_even_and_odd = lambda a: \"Even\" if a % 2 == 0 else \"Odd\"\n",
    "\n",
    "# Usage\n",
    "print(check_even_and_odd(4))  # Output: \"Even\"\n",
    "print(check_even_and_odd(7))  # Output: \"Odd\""
   ]
  },
  {
   "cell_type": "code",
   "execution_count": null,
   "metadata": {},
   "outputs": [],
   "source": []
  }
 ],
 "metadata": {
  "kernelspec": {
   "display_name": "Python 3",
   "language": "python",
   "name": "python3"
  },
  "language_info": {
   "codemirror_mode": {
    "name": "ipython",
    "version": 3
   },
   "file_extension": ".py",
   "mimetype": "text/x-python",
   "name": "python",
   "nbconvert_exporter": "python",
   "pygments_lexer": "ipython3",
   "version": "3.12.3"
  }
 },
 "nbformat": 4,
 "nbformat_minor": 2
}
